{
 "cells": [
  {
   "cell_type": "markdown",
   "metadata": {},
   "source": [
    "# Example - Market basket analysis at the grocery outlet"
   ]
  },
  {
   "cell_type": "markdown",
   "metadata": {},
   "source": [
    "### Introduction"
   ]
  },
  {
   "cell_type": "markdown",
   "metadata": {},
   "source": [
    "**Market basket analysis** tells us which products tend to be purchased together and which are most amenable to promotion. This information is actionable: it can suggest new store layouts, determine which articles to put on special, indicate when to issue coupons, and so on. When these data can be tied to individual customers through a loyalty card or website registration, they become even more valuable. The application of **association rules** to market basket analysis is a classic of data mining. \n",
    "\n",
    "In this example, which I use to illustrate the extraction of association rules from **transaction data**, a Chicago-based marketing analyst focusing on the retail industry explores different approaches for modeling consumer behavior using data on **point-of-sale transactions** in small stores of the Chicago metropolitan area. She starts with a market basket analysis of data from a typical local grocery outlet, where she intends to identify **joint occurrence** of products in shopping baskets."
   ]
  },
  {
   "cell_type": "markdown",
   "metadata": {},
   "source": [
    "### The data set"
   ]
  },
  {
   "cell_type": "markdown",
   "metadata": {},
   "source": [
    "The files `groceries.csv` data set covers one month of point-of-sale data. It contains 9,835 transactions and the items are aggregated to 169 categories. The data come as a **matrix transaction/item**: an entry equal to 1 in the intersection of row `i` and column `j` indicates that transaction `i` includes item `j`. \n",
    "\n",
    "I start by loading the data in the usual way."
   ]
  },
  {
   "cell_type": "code",
   "execution_count": 1,
   "metadata": {},
   "outputs": [],
   "source": [
    "import pandas as pd"
   ]
  },
  {
   "cell_type": "code",
   "execution_count": 2,
   "metadata": {},
   "outputs": [],
   "source": [
    "url1 = 'https://raw.githubusercontent.com/cinnData/DataSci/main/'\n",
    "url2 = '11.%20Association%20rules/groceries.csv'\n",
    "url = url1 + url2\n",
    "df = pd.read_csv(url)"
   ]
  },
  {
   "cell_type": "markdown",
   "metadata": {},
   "source": [
    "Next, I check the size of the file:"
   ]
  },
  {
   "cell_type": "code",
   "execution_count": 3,
   "metadata": {},
   "outputs": [
    {
     "data": {
      "text/plain": [
       "(9835, 169)"
      ]
     },
     "execution_count": 3,
     "metadata": {},
     "output_type": "execute_result"
    }
   ],
   "source": [
    "df.shape"
   ]
  },
  {
   "cell_type": "markdown",
   "metadata": {},
   "source": [
    "Now, we display the head of a few columns:"
   ]
  },
  {
   "cell_type": "code",
   "execution_count": 4,
   "metadata": {},
   "outputs": [
    {
     "data": {
      "text/html": [
       "<div>\n",
       "<style scoped>\n",
       "    .dataframe tbody tr th:only-of-type {\n",
       "        vertical-align: middle;\n",
       "    }\n",
       "\n",
       "    .dataframe tbody tr th {\n",
       "        vertical-align: top;\n",
       "    }\n",
       "\n",
       "    .dataframe thead th {\n",
       "        text-align: right;\n",
       "    }\n",
       "</style>\n",
       "<table border=\"1\" class=\"dataframe\">\n",
       "  <thead>\n",
       "    <tr style=\"text-align: right;\">\n",
       "      <th></th>\n",
       "      <th>frankfurter</th>\n",
       "      <th>sausage</th>\n",
       "      <th>liver_loaf</th>\n",
       "      <th>ham</th>\n",
       "      <th>meat</th>\n",
       "      <th>finished_products</th>\n",
       "      <th>organic_sausage</th>\n",
       "      <th>chicken</th>\n",
       "      <th>turkey</th>\n",
       "      <th>pork</th>\n",
       "    </tr>\n",
       "  </thead>\n",
       "  <tbody>\n",
       "    <tr>\n",
       "      <th>0</th>\n",
       "      <td>0</td>\n",
       "      <td>0</td>\n",
       "      <td>0</td>\n",
       "      <td>0</td>\n",
       "      <td>0</td>\n",
       "      <td>0</td>\n",
       "      <td>0</td>\n",
       "      <td>0</td>\n",
       "      <td>0</td>\n",
       "      <td>0</td>\n",
       "    </tr>\n",
       "    <tr>\n",
       "      <th>1</th>\n",
       "      <td>0</td>\n",
       "      <td>0</td>\n",
       "      <td>0</td>\n",
       "      <td>0</td>\n",
       "      <td>0</td>\n",
       "      <td>0</td>\n",
       "      <td>0</td>\n",
       "      <td>0</td>\n",
       "      <td>0</td>\n",
       "      <td>0</td>\n",
       "    </tr>\n",
       "    <tr>\n",
       "      <th>2</th>\n",
       "      <td>0</td>\n",
       "      <td>0</td>\n",
       "      <td>0</td>\n",
       "      <td>0</td>\n",
       "      <td>0</td>\n",
       "      <td>0</td>\n",
       "      <td>0</td>\n",
       "      <td>0</td>\n",
       "      <td>0</td>\n",
       "      <td>0</td>\n",
       "    </tr>\n",
       "    <tr>\n",
       "      <th>3</th>\n",
       "      <td>0</td>\n",
       "      <td>0</td>\n",
       "      <td>0</td>\n",
       "      <td>0</td>\n",
       "      <td>0</td>\n",
       "      <td>0</td>\n",
       "      <td>0</td>\n",
       "      <td>0</td>\n",
       "      <td>0</td>\n",
       "      <td>0</td>\n",
       "    </tr>\n",
       "    <tr>\n",
       "      <th>4</th>\n",
       "      <td>0</td>\n",
       "      <td>0</td>\n",
       "      <td>0</td>\n",
       "      <td>0</td>\n",
       "      <td>0</td>\n",
       "      <td>0</td>\n",
       "      <td>0</td>\n",
       "      <td>0</td>\n",
       "      <td>0</td>\n",
       "      <td>0</td>\n",
       "    </tr>\n",
       "  </tbody>\n",
       "</table>\n",
       "</div>"
      ],
      "text/plain": [
       "   frankfurter  sausage  liver_loaf  ham  meat  finished_products  \\\n",
       "0            0        0           0    0     0                  0   \n",
       "1            0        0           0    0     0                  0   \n",
       "2            0        0           0    0     0                  0   \n",
       "3            0        0           0    0     0                  0   \n",
       "4            0        0           0    0     0                  0   \n",
       "\n",
       "   organic_sausage  chicken  turkey  pork  \n",
       "0                0        0       0     0  \n",
       "1                0        0       0     0  \n",
       "2                0        0       0     0  \n",
       "3                0        0       0     0  \n",
       "4                0        0       0     0  "
      ]
     },
     "execution_count": 4,
     "metadata": {},
     "output_type": "execute_result"
    }
   ],
   "source": [
    "df[df.columns[:10]].head()"
   ]
  },
  {
   "cell_type": "markdown",
   "metadata": {},
   "source": [
    "These data look very **sparse**. Let me explore this. The total number of entries is:"
   ]
  },
  {
   "cell_type": "code",
   "execution_count": 5,
   "metadata": {},
   "outputs": [
    {
     "data": {
      "text/plain": [
       "1662115"
      ]
     },
     "execution_count": 5,
     "metadata": {},
     "output_type": "execute_result"
    }
   ],
   "source": [
    "df.count().sum()"
   ]
  },
  {
   "cell_type": "markdown",
   "metadata": {},
   "source": [
    "The total number of nonzero entries is:"
   ]
  },
  {
   "cell_type": "code",
   "execution_count": 6,
   "metadata": {},
   "outputs": [
    {
     "data": {
      "text/plain": [
       "43367"
      ]
     },
     "execution_count": 6,
     "metadata": {},
     "output_type": "execute_result"
    }
   ],
   "source": [
    "df.sum().sum()"
   ]
  },
  {
   "cell_type": "markdown",
   "metadata": {},
   "source": [
    "So, there are 43,367 nonzero entries, out of the 1,662,115 terms of this matrix (2.6%). Undoubtedly, this is an inefficient way of transporting the data, which is used in this example to keep things simple. You'll never manage such files in business."
   ]
  },
  {
   "cell_type": "markdown",
   "metadata": {},
   "source": [
    "### The package mlextend"
   ]
  },
  {
   "cell_type": "markdown",
   "metadata": {},
   "source": [
    "The tools used in the analysis of this example are taken from the Python package `mlxtend`, which contains miscellaneous tools for various jobs. I use here two functions from the subpackage `frequent_patterns`.\n",
    "\n",
    "Association rules ming comes in `mlxtend` in two steps: (a) extracting the most frequent itemsets, and (b) selecting association rules by support and confidence. We do not always find these two steps separated in data science software applications, as they are in this package."
   ]
  },
  {
   "cell_type": "markdown",
   "metadata": {},
   "source": [
    "### Mining itemsets"
   ]
  },
  {
   "cell_type": "markdown",
   "metadata": {},
   "source": [
    "To capture the frequent itemsets, we import the function `apriori`."
   ]
  },
  {
   "cell_type": "code",
   "execution_count": 7,
   "metadata": {},
   "outputs": [],
   "source": [
    "from mlxtend.frequent_patterns import apriori"
   ]
  },
  {
   "cell_type": "markdown",
   "metadata": {},
   "source": [
    "What frequent itemset means depends on the particular data set. I use the **support**, which is the proportion of transactions that contain an itemset, to evaluate how frequent itemsets are. In this example, after some exploration (not reported), I set the **minimim support** to 0.01, which makes enough room for examination."
   ]
  },
  {
   "cell_type": "code",
   "execution_count": 8,
   "metadata": {},
   "outputs": [],
   "source": [
    "freq_itemsets = apriori(df, min_support=0.01, use_colnames=True)"
   ]
  },
  {
   "cell_type": "markdown",
   "metadata": {},
   "source": [
    "`apriori` returns a data frame with two columns, the support and the itemset: "
   ]
  },
  {
   "cell_type": "code",
   "execution_count": 9,
   "metadata": {},
   "outputs": [
    {
     "name": "stdout",
     "output_type": "stream",
     "text": [
      "<class 'pandas.core.frame.DataFrame'>\n",
      "RangeIndex: 333 entries, 0 to 332\n",
      "Data columns (total 2 columns):\n",
      " #   Column    Non-Null Count  Dtype  \n",
      "---  ------    --------------  -----  \n",
      " 0   support   333 non-null    float64\n",
      " 1   itemsets  333 non-null    object \n",
      "dtypes: float64(1), object(1)\n",
      "memory usage: 5.3+ KB\n"
     ]
    }
   ],
   "source": [
    "freq_itemsets.info()"
   ]
  },
  {
   "cell_type": "markdown",
   "metadata": {},
   "source": [
    "The itemsets with highest and lowest support in this selection are:"
   ]
  },
  {
   "cell_type": "code",
   "execution_count": 10,
   "metadata": {},
   "outputs": [
    {
     "data": {
      "text/html": [
       "<div>\n",
       "<style scoped>\n",
       "    .dataframe tbody tr th:only-of-type {\n",
       "        vertical-align: middle;\n",
       "    }\n",
       "\n",
       "    .dataframe tbody tr th {\n",
       "        vertical-align: top;\n",
       "    }\n",
       "\n",
       "    .dataframe thead th {\n",
       "        text-align: right;\n",
       "    }\n",
       "</style>\n",
       "<table border=\"1\" class=\"dataframe\">\n",
       "  <thead>\n",
       "    <tr style=\"text-align: right;\">\n",
       "      <th></th>\n",
       "      <th>support</th>\n",
       "      <th>itemsets</th>\n",
       "    </tr>\n",
       "  </thead>\n",
       "  <tbody>\n",
       "    <tr>\n",
       "      <th>18</th>\n",
       "      <td>0.255516</td>\n",
       "      <td>(whole_milk)</td>\n",
       "    </tr>\n",
       "    <tr>\n",
       "      <th>16</th>\n",
       "      <td>0.193493</td>\n",
       "      <td>(other_vegetables)</td>\n",
       "    </tr>\n",
       "    <tr>\n",
       "      <th>40</th>\n",
       "      <td>0.183935</td>\n",
       "      <td>(rolls_buns)</td>\n",
       "    </tr>\n",
       "    <tr>\n",
       "      <th>60</th>\n",
       "      <td>0.174377</td>\n",
       "      <td>(soda)</td>\n",
       "    </tr>\n",
       "    <tr>\n",
       "      <th>23</th>\n",
       "      <td>0.139502</td>\n",
       "      <td>(yogurt)</td>\n",
       "    </tr>\n",
       "  </tbody>\n",
       "</table>\n",
       "</div>"
      ],
      "text/plain": [
       "     support            itemsets\n",
       "18  0.255516        (whole_milk)\n",
       "16  0.193493  (other_vegetables)\n",
       "40  0.183935        (rolls_buns)\n",
       "60  0.174377              (soda)\n",
       "23  0.139502            (yogurt)"
      ]
     },
     "execution_count": 10,
     "metadata": {},
     "output_type": "execute_result"
    }
   ],
   "source": [
    "freq_itemsets.sort_values('support', ascending=False).head()"
   ]
  },
  {
   "cell_type": "code",
   "execution_count": 11,
   "metadata": {},
   "outputs": [
    {
     "data": {
      "text/html": [
       "<div>\n",
       "<style scoped>\n",
       "    .dataframe tbody tr th:only-of-type {\n",
       "        vertical-align: middle;\n",
       "    }\n",
       "\n",
       "    .dataframe tbody tr th {\n",
       "        vertical-align: top;\n",
       "    }\n",
       "\n",
       "    .dataframe thead th {\n",
       "        text-align: right;\n",
       "    }\n",
       "</style>\n",
       "<table border=\"1\" class=\"dataframe\">\n",
       "  <thead>\n",
       "    <tr style=\"text-align: right;\">\n",
       "      <th></th>\n",
       "      <th>support</th>\n",
       "      <th>itemsets</th>\n",
       "    </tr>\n",
       "  </thead>\n",
       "  <tbody>\n",
       "    <tr>\n",
       "      <th>151</th>\n",
       "      <td>0.010066</td>\n",
       "      <td>(napkins, tropical_fruit)</td>\n",
       "    </tr>\n",
       "    <tr>\n",
       "      <th>219</th>\n",
       "      <td>0.010066</td>\n",
       "      <td>(whole_milk, hard_cheese)</td>\n",
       "    </tr>\n",
       "    <tr>\n",
       "      <th>107</th>\n",
       "      <td>0.010066</td>\n",
       "      <td>(sausage, fruit_vegetable_juice)</td>\n",
       "    </tr>\n",
       "    <tr>\n",
       "      <th>329</th>\n",
       "      <td>0.010066</td>\n",
       "      <td>(curd, yogurt, whole_milk)</td>\n",
       "    </tr>\n",
       "    <tr>\n",
       "      <th>248</th>\n",
       "      <td>0.010066</td>\n",
       "      <td>(rolls_buns, curd)</td>\n",
       "    </tr>\n",
       "  </tbody>\n",
       "</table>\n",
       "</div>"
      ],
      "text/plain": [
       "      support                          itemsets\n",
       "151  0.010066         (napkins, tropical_fruit)\n",
       "219  0.010066         (whole_milk, hard_cheese)\n",
       "107  0.010066  (sausage, fruit_vegetable_juice)\n",
       "329  0.010066        (curd, yogurt, whole_milk)\n",
       "248  0.010066                (rolls_buns, curd)"
      ]
     },
     "execution_count": 11,
     "metadata": {},
     "output_type": "execute_result"
    }
   ],
   "source": [
    "freq_itemsets.sort_values('support', ascending=False).tail()"
   ]
  },
  {
   "cell_type": "markdown",
   "metadata": {},
   "source": [
    "This quick examination shows us that we are not wrong lowering the support threshold. The terms of the column `itemsets` are (frozen) sets. The **frozen set** is an immutable version of a Python set object. While elements of a set can be modified at any time, elements of a frozen set remain the same after creation."
   ]
  },
  {
   "cell_type": "code",
   "execution_count": 12,
   "metadata": {},
   "outputs": [
    {
     "data": {
      "text/plain": [
       "frozenset({'frankfurter'})"
      ]
     },
     "execution_count": 12,
     "metadata": {},
     "output_type": "execute_result"
    }
   ],
   "source": [
    "freq_itemsets.itemsets[0]"
   ]
  },
  {
   "cell_type": "markdown",
   "metadata": {},
   "source": [
    "I add the length of the itemsets, which will allow me to filter itemsets by legth, having a clearer picture. `apply` is used here to apply the function `len`, which returns the number of elements of a set, term by term, to the column `itemsets`. "
   ]
  },
  {
   "cell_type": "code",
   "execution_count": 13,
   "metadata": {},
   "outputs": [],
   "source": [
    "freq_itemsets['length'] = freq_itemsets['itemsets'].apply(len)"
   ]
  },
  {
   "cell_type": "markdown",
   "metadata": {},
   "source": [
    "You can get the top-selling items by picking the itemsets of size 1 and sorting them by support (you would get the same with `value_counts`, but, instead of a proportion, you would get a count). We do not need these itemsets for describing the association rules, but they help us to understand the concepts. "
   ]
  },
  {
   "cell_type": "code",
   "execution_count": 14,
   "metadata": {},
   "outputs": [
    {
     "data": {
      "text/html": [
       "<div>\n",
       "<style scoped>\n",
       "    .dataframe tbody tr th:only-of-type {\n",
       "        vertical-align: middle;\n",
       "    }\n",
       "\n",
       "    .dataframe tbody tr th {\n",
       "        vertical-align: top;\n",
       "    }\n",
       "\n",
       "    .dataframe thead th {\n",
       "        text-align: right;\n",
       "    }\n",
       "</style>\n",
       "<table border=\"1\" class=\"dataframe\">\n",
       "  <thead>\n",
       "    <tr style=\"text-align: right;\">\n",
       "      <th></th>\n",
       "      <th>support</th>\n",
       "      <th>itemsets</th>\n",
       "      <th>length</th>\n",
       "    </tr>\n",
       "  </thead>\n",
       "  <tbody>\n",
       "    <tr>\n",
       "      <th>18</th>\n",
       "      <td>0.255516</td>\n",
       "      <td>(whole_milk)</td>\n",
       "      <td>1</td>\n",
       "    </tr>\n",
       "    <tr>\n",
       "      <th>16</th>\n",
       "      <td>0.193493</td>\n",
       "      <td>(other_vegetables)</td>\n",
       "      <td>1</td>\n",
       "    </tr>\n",
       "    <tr>\n",
       "      <th>40</th>\n",
       "      <td>0.183935</td>\n",
       "      <td>(rolls_buns)</td>\n",
       "      <td>1</td>\n",
       "    </tr>\n",
       "    <tr>\n",
       "      <th>60</th>\n",
       "      <td>0.174377</td>\n",
       "      <td>(soda)</td>\n",
       "      <td>1</td>\n",
       "    </tr>\n",
       "    <tr>\n",
       "      <th>23</th>\n",
       "      <td>0.139502</td>\n",
       "      <td>(yogurt)</td>\n",
       "      <td>1</td>\n",
       "    </tr>\n",
       "    <tr>\n",
       "      <th>59</th>\n",
       "      <td>0.110524</td>\n",
       "      <td>(bottled_water)</td>\n",
       "      <td>1</td>\n",
       "    </tr>\n",
       "    <tr>\n",
       "      <th>13</th>\n",
       "      <td>0.108998</td>\n",
       "      <td>(root_vegetables)</td>\n",
       "      <td>1</td>\n",
       "    </tr>\n",
       "    <tr>\n",
       "      <th>9</th>\n",
       "      <td>0.104931</td>\n",
       "      <td>(tropical_fruit)</td>\n",
       "      <td>1</td>\n",
       "    </tr>\n",
       "    <tr>\n",
       "      <th>87</th>\n",
       "      <td>0.098526</td>\n",
       "      <td>(shopping_bags)</td>\n",
       "      <td>1</td>\n",
       "    </tr>\n",
       "    <tr>\n",
       "      <th>1</th>\n",
       "      <td>0.093950</td>\n",
       "      <td>(sausage)</td>\n",
       "      <td>1</td>\n",
       "    </tr>\n",
       "  </tbody>\n",
       "</table>\n",
       "</div>"
      ],
      "text/plain": [
       "     support            itemsets  length\n",
       "18  0.255516        (whole_milk)       1\n",
       "16  0.193493  (other_vegetables)       1\n",
       "40  0.183935        (rolls_buns)       1\n",
       "60  0.174377              (soda)       1\n",
       "23  0.139502            (yogurt)       1\n",
       "59  0.110524     (bottled_water)       1\n",
       "13  0.108998   (root_vegetables)       1\n",
       "9   0.104931    (tropical_fruit)       1\n",
       "87  0.098526     (shopping_bags)       1\n",
       "1   0.093950           (sausage)       1"
      ]
     },
     "execution_count": 14,
     "metadata": {},
     "output_type": "execute_result"
    }
   ],
   "source": [
    "item1 = freq_itemsets[freq_itemsets['length'] == 1]\n",
    "item1.sort_values('support', ascending=0).head(10)"
   ]
  },
  {
   "cell_type": "markdown",
   "metadata": {},
   "source": [
    "Setting the length to 2, you can pick a second part of the collection of frequent itemsets."
   ]
  },
  {
   "cell_type": "code",
   "execution_count": 15,
   "metadata": {},
   "outputs": [
    {
     "data": {
      "text/html": [
       "<div>\n",
       "<style scoped>\n",
       "    .dataframe tbody tr th:only-of-type {\n",
       "        vertical-align: middle;\n",
       "    }\n",
       "\n",
       "    .dataframe tbody tr th {\n",
       "        vertical-align: top;\n",
       "    }\n",
       "\n",
       "    .dataframe thead th {\n",
       "        text-align: right;\n",
       "    }\n",
       "</style>\n",
       "<table border=\"1\" class=\"dataframe\">\n",
       "  <thead>\n",
       "    <tr style=\"text-align: right;\">\n",
       "      <th></th>\n",
       "      <th>support</th>\n",
       "      <th>itemsets</th>\n",
       "      <th>length</th>\n",
       "    </tr>\n",
       "  </thead>\n",
       "  <tbody>\n",
       "    <tr>\n",
       "      <th>184</th>\n",
       "      <td>0.074835</td>\n",
       "      <td>(whole_milk, other_vegetables)</td>\n",
       "      <td>2</td>\n",
       "    </tr>\n",
       "    <tr>\n",
       "      <th>223</th>\n",
       "      <td>0.056634</td>\n",
       "      <td>(rolls_buns, whole_milk)</td>\n",
       "      <td>2</td>\n",
       "    </tr>\n",
       "    <tr>\n",
       "      <th>216</th>\n",
       "      <td>0.056024</td>\n",
       "      <td>(yogurt, whole_milk)</td>\n",
       "      <td>2</td>\n",
       "    </tr>\n",
       "    <tr>\n",
       "      <th>166</th>\n",
       "      <td>0.048907</td>\n",
       "      <td>(root_vegetables, whole_milk)</td>\n",
       "      <td>2</td>\n",
       "    </tr>\n",
       "    <tr>\n",
       "      <th>165</th>\n",
       "      <td>0.047382</td>\n",
       "      <td>(root_vegetables, other_vegetables)</td>\n",
       "      <td>2</td>\n",
       "    </tr>\n",
       "    <tr>\n",
       "      <th>189</th>\n",
       "      <td>0.043416</td>\n",
       "      <td>(yogurt, other_vegetables)</td>\n",
       "      <td>2</td>\n",
       "    </tr>\n",
       "    <tr>\n",
       "      <th>194</th>\n",
       "      <td>0.042603</td>\n",
       "      <td>(rolls_buns, other_vegetables)</td>\n",
       "      <td>2</td>\n",
       "    </tr>\n",
       "    <tr>\n",
       "      <th>140</th>\n",
       "      <td>0.042298</td>\n",
       "      <td>(whole_milk, tropical_fruit)</td>\n",
       "      <td>2</td>\n",
       "    </tr>\n",
       "    <tr>\n",
       "      <th>232</th>\n",
       "      <td>0.040061</td>\n",
       "      <td>(whole_milk, soda)</td>\n",
       "      <td>2</td>\n",
       "    </tr>\n",
       "    <tr>\n",
       "      <th>273</th>\n",
       "      <td>0.038332</td>\n",
       "      <td>(rolls_buns, soda)</td>\n",
       "      <td>2</td>\n",
       "    </tr>\n",
       "  </tbody>\n",
       "</table>\n",
       "</div>"
      ],
      "text/plain": [
       "      support                             itemsets  length\n",
       "184  0.074835       (whole_milk, other_vegetables)       2\n",
       "223  0.056634             (rolls_buns, whole_milk)       2\n",
       "216  0.056024                 (yogurt, whole_milk)       2\n",
       "166  0.048907        (root_vegetables, whole_milk)       2\n",
       "165  0.047382  (root_vegetables, other_vegetables)       2\n",
       "189  0.043416           (yogurt, other_vegetables)       2\n",
       "194  0.042603       (rolls_buns, other_vegetables)       2\n",
       "140  0.042298         (whole_milk, tropical_fruit)       2\n",
       "232  0.040061                   (whole_milk, soda)       2\n",
       "273  0.038332                   (rolls_buns, soda)       2"
      ]
     },
     "execution_count": 15,
     "metadata": {},
     "output_type": "execute_result"
    }
   ],
   "source": [
    "\n",
    "item2 = freq_itemsets[freq_itemsets['length'] == 2]\n",
    "item2.sort_values('support', ascending=0).head(10)"
   ]
  },
  {
   "cell_type": "markdown",
   "metadata": {},
   "source": [
    "Finally, setting the length to 3, you get a third list."
   ]
  },
  {
   "cell_type": "code",
   "execution_count": 16,
   "metadata": {},
   "outputs": [
    {
     "data": {
      "text/html": [
       "<div>\n",
       "<style scoped>\n",
       "    .dataframe tbody tr th:only-of-type {\n",
       "        vertical-align: middle;\n",
       "    }\n",
       "\n",
       "    .dataframe tbody tr th {\n",
       "        vertical-align: top;\n",
       "    }\n",
       "\n",
       "    .dataframe thead th {\n",
       "        text-align: right;\n",
       "    }\n",
       "</style>\n",
       "<table border=\"1\" class=\"dataframe\">\n",
       "  <thead>\n",
       "    <tr style=\"text-align: right;\">\n",
       "      <th></th>\n",
       "      <th>support</th>\n",
       "      <th>itemsets</th>\n",
       "      <th>length</th>\n",
       "    </tr>\n",
       "  </thead>\n",
       "  <tbody>\n",
       "    <tr>\n",
       "      <th>313</th>\n",
       "      <td>0.023183</td>\n",
       "      <td>(root_vegetables, whole_milk, other_vegetables)</td>\n",
       "      <td>3</td>\n",
       "    </tr>\n",
       "    <tr>\n",
       "      <th>319</th>\n",
       "      <td>0.022267</td>\n",
       "      <td>(yogurt, whole_milk, other_vegetables)</td>\n",
       "      <td>3</td>\n",
       "    </tr>\n",
       "    <tr>\n",
       "      <th>322</th>\n",
       "      <td>0.017895</td>\n",
       "      <td>(rolls_buns, whole_milk, other_vegetables)</td>\n",
       "      <td>3</td>\n",
       "    </tr>\n",
       "    <tr>\n",
       "      <th>308</th>\n",
       "      <td>0.017082</td>\n",
       "      <td>(whole_milk, tropical_fruit, other_vegetables)</td>\n",
       "      <td>3</td>\n",
       "    </tr>\n",
       "    <tr>\n",
       "      <th>331</th>\n",
       "      <td>0.015557</td>\n",
       "      <td>(rolls_buns, yogurt, whole_milk)</td>\n",
       "      <td>3</td>\n",
       "    </tr>\n",
       "    <tr>\n",
       "      <th>310</th>\n",
       "      <td>0.015150</td>\n",
       "      <td>(yogurt, whole_milk, tropical_fruit)</td>\n",
       "      <td>3</td>\n",
       "    </tr>\n",
       "    <tr>\n",
       "      <th>320</th>\n",
       "      <td>0.014642</td>\n",
       "      <td>(whipped_sour_cream, whole_milk, other_vegetab...</td>\n",
       "      <td>3</td>\n",
       "    </tr>\n",
       "    <tr>\n",
       "      <th>316</th>\n",
       "      <td>0.014540</td>\n",
       "      <td>(yogurt, root_vegetables, whole_milk)</td>\n",
       "      <td>3</td>\n",
       "    </tr>\n",
       "    <tr>\n",
       "      <th>325</th>\n",
       "      <td>0.013930</td>\n",
       "      <td>(whole_milk, other_vegetables, soda)</td>\n",
       "      <td>3</td>\n",
       "    </tr>\n",
       "    <tr>\n",
       "      <th>312</th>\n",
       "      <td>0.013523</td>\n",
       "      <td>(whole_milk, other_vegetables, pip_fruit)</td>\n",
       "      <td>3</td>\n",
       "    </tr>\n",
       "  </tbody>\n",
       "</table>\n",
       "</div>"
      ],
      "text/plain": [
       "      support                                           itemsets  length\n",
       "313  0.023183    (root_vegetables, whole_milk, other_vegetables)       3\n",
       "319  0.022267             (yogurt, whole_milk, other_vegetables)       3\n",
       "322  0.017895         (rolls_buns, whole_milk, other_vegetables)       3\n",
       "308  0.017082     (whole_milk, tropical_fruit, other_vegetables)       3\n",
       "331  0.015557                   (rolls_buns, yogurt, whole_milk)       3\n",
       "310  0.015150               (yogurt, whole_milk, tropical_fruit)       3\n",
       "320  0.014642  (whipped_sour_cream, whole_milk, other_vegetab...       3\n",
       "316  0.014540              (yogurt, root_vegetables, whole_milk)       3\n",
       "325  0.013930               (whole_milk, other_vegetables, soda)       3\n",
       "312  0.013523          (whole_milk, other_vegetables, pip_fruit)       3"
      ]
     },
     "execution_count": 16,
     "metadata": {},
     "output_type": "execute_result"
    }
   ],
   "source": [
    "item3 = freq_itemsets[freq_itemsets['length'] == 3]\n",
    "item3.sort_values('support', ascending=0).head(10)"
   ]
  },
  {
   "cell_type": "markdown",
   "metadata": {},
   "source": [
    "For mining association rules, you can apply the function `association_rules`. We use here the **confidence** for selecting the more relevant rules, setting the threshold to 0.4. You may find in the literature examples with much higher thresholds, but we cannot be so strict in this case."
   ]
  },
  {
   "cell_type": "code",
   "execution_count": 17,
   "metadata": {},
   "outputs": [],
   "source": [
    "from mlxtend.frequent_patterns import association_rules\n",
    "rules = association_rules(freq_itemsets, metric=\"confidence\", min_threshold=0.4)"
   ]
  },
  {
   "cell_type": "markdown",
   "metadata": {},
   "source": [
    "Finally, I arrange things so my presentation of the rules looks nicer."
   ]
  },
  {
   "cell_type": "code",
   "execution_count": 18,
   "metadata": {},
   "outputs": [
    {
     "data": {
      "text/html": [
       "<div>\n",
       "<style scoped>\n",
       "    .dataframe tbody tr th:only-of-type {\n",
       "        vertical-align: middle;\n",
       "    }\n",
       "\n",
       "    .dataframe tbody tr th {\n",
       "        vertical-align: top;\n",
       "    }\n",
       "\n",
       "    .dataframe thead th {\n",
       "        text-align: right;\n",
       "    }\n",
       "</style>\n",
       "<table border=\"1\" class=\"dataframe\">\n",
       "  <thead>\n",
       "    <tr style=\"text-align: right;\">\n",
       "      <th></th>\n",
       "      <th>antecedents</th>\n",
       "      <th>consequents</th>\n",
       "      <th>support</th>\n",
       "      <th>confidence</th>\n",
       "      <th>lift</th>\n",
       "    </tr>\n",
       "  </thead>\n",
       "  <tbody>\n",
       "    <tr>\n",
       "      <th>27</th>\n",
       "      <td>(root_vegetables, citrus_fruit)</td>\n",
       "      <td>(other_vegetables)</td>\n",
       "      <td>0.010371</td>\n",
       "      <td>0.586207</td>\n",
       "      <td>3.029608</td>\n",
       "    </tr>\n",
       "    <tr>\n",
       "      <th>31</th>\n",
       "      <td>(root_vegetables, tropical_fruit)</td>\n",
       "      <td>(other_vegetables)</td>\n",
       "      <td>0.012303</td>\n",
       "      <td>0.584541</td>\n",
       "      <td>3.020999</td>\n",
       "    </tr>\n",
       "    <tr>\n",
       "      <th>59</th>\n",
       "      <td>(curd, yogurt)</td>\n",
       "      <td>(whole_milk)</td>\n",
       "      <td>0.010066</td>\n",
       "      <td>0.582353</td>\n",
       "      <td>2.279125</td>\n",
       "    </tr>\n",
       "    <tr>\n",
       "      <th>47</th>\n",
       "      <td>(butter, other_vegetables)</td>\n",
       "      <td>(whole_milk)</td>\n",
       "      <td>0.011490</td>\n",
       "      <td>0.573604</td>\n",
       "      <td>2.244885</td>\n",
       "    </tr>\n",
       "    <tr>\n",
       "      <th>32</th>\n",
       "      <td>(root_vegetables, tropical_fruit)</td>\n",
       "      <td>(whole_milk)</td>\n",
       "      <td>0.011998</td>\n",
       "      <td>0.570048</td>\n",
       "      <td>2.230969</td>\n",
       "    </tr>\n",
       "    <tr>\n",
       "      <th>44</th>\n",
       "      <td>(yogurt, root_vegetables)</td>\n",
       "      <td>(whole_milk)</td>\n",
       "      <td>0.014540</td>\n",
       "      <td>0.562992</td>\n",
       "      <td>2.203354</td>\n",
       "    </tr>\n",
       "    <tr>\n",
       "      <th>52</th>\n",
       "      <td>(domestic_eggs, other_vegetables)</td>\n",
       "      <td>(whole_milk)</td>\n",
       "      <td>0.012303</td>\n",
       "      <td>0.552511</td>\n",
       "      <td>2.162336</td>\n",
       "    </tr>\n",
       "    <tr>\n",
       "      <th>60</th>\n",
       "      <td>(whipped_sour_cream, yogurt)</td>\n",
       "      <td>(whole_milk)</td>\n",
       "      <td>0.010880</td>\n",
       "      <td>0.524510</td>\n",
       "      <td>2.052747</td>\n",
       "    </tr>\n",
       "    <tr>\n",
       "      <th>45</th>\n",
       "      <td>(rolls_buns, root_vegetables)</td>\n",
       "      <td>(whole_milk)</td>\n",
       "      <td>0.012710</td>\n",
       "      <td>0.523013</td>\n",
       "      <td>2.046888</td>\n",
       "    </tr>\n",
       "    <tr>\n",
       "      <th>39</th>\n",
       "      <td>(other_vegetables, pip_fruit)</td>\n",
       "      <td>(whole_milk)</td>\n",
       "      <td>0.013523</td>\n",
       "      <td>0.517510</td>\n",
       "      <td>2.025351</td>\n",
       "    </tr>\n",
       "  </tbody>\n",
       "</table>\n",
       "</div>"
      ],
      "text/plain": [
       "                          antecedents         consequents   support  \\\n",
       "27    (root_vegetables, citrus_fruit)  (other_vegetables)  0.010371   \n",
       "31  (root_vegetables, tropical_fruit)  (other_vegetables)  0.012303   \n",
       "59                     (curd, yogurt)        (whole_milk)  0.010066   \n",
       "47         (butter, other_vegetables)        (whole_milk)  0.011490   \n",
       "32  (root_vegetables, tropical_fruit)        (whole_milk)  0.011998   \n",
       "44          (yogurt, root_vegetables)        (whole_milk)  0.014540   \n",
       "52  (domestic_eggs, other_vegetables)        (whole_milk)  0.012303   \n",
       "60       (whipped_sour_cream, yogurt)        (whole_milk)  0.010880   \n",
       "45      (rolls_buns, root_vegetables)        (whole_milk)  0.012710   \n",
       "39      (other_vegetables, pip_fruit)        (whole_milk)  0.013523   \n",
       "\n",
       "    confidence      lift  \n",
       "27    0.586207  3.029608  \n",
       "31    0.584541  3.020999  \n",
       "59    0.582353  2.279125  \n",
       "47    0.573604  2.244885  \n",
       "32    0.570048  2.230969  \n",
       "44    0.562992  2.203354  \n",
       "52    0.552511  2.162336  \n",
       "60    0.524510  2.052747  \n",
       "45    0.523013  2.046888  \n",
       "39    0.517510  2.025351  "
      ]
     },
     "execution_count": 18,
     "metadata": {},
     "output_type": "execute_result"
    }
   ],
   "source": [
    "rules = rules.sort_values('confidence', ascending=0).head(10)\n",
    "rules[['antecedents', 'consequents', 'support', 'confidence', 'lift']]"
   ]
  },
  {
   "cell_type": "markdown",
   "metadata": {},
   "source": [
    "What do these figures mean? Take the first rule in the above table. The confidence 58.6% is read as *the probability that a transaction containing root vegetables and citrus fruit contains also other vegetables*. The lift 3.03 is read as: *the probability that a transaction contains other vegetables is three times higher if the transaction contains root vegetables and citrus fruit*."
   ]
  },
  {
   "cell_type": "markdown",
   "metadata": {},
   "source": [
    "### Homework"
   ]
  },
  {
   "cell_type": "markdown",
   "metadata": {},
   "source": [
    "Rewrite the code for the extraction of the association rules in such a way that you capture the rules with the highest lift.\n",
    "\n",
    "1. How do you interpret the results?\n",
    "\n",
    "2. Why do you get the rules in pairs *A* => *B* and  *B* => *A*, with the same lift but different confidence?"
   ]
  }
 ],
 "metadata": {
  "kernelspec": {
   "display_name": "Python 3 (ipykernel)",
   "language": "python",
   "name": "python3"
  },
  "language_info": {
   "codemirror_mode": {
    "name": "ipython",
    "version": 3
   },
   "file_extension": ".py",
   "mimetype": "text/x-python",
   "name": "python",
   "nbconvert_exporter": "python",
   "pygments_lexer": "ipython3",
   "version": "3.7.9"
  }
 },
 "nbformat": 4,
 "nbformat_minor": 2
}
