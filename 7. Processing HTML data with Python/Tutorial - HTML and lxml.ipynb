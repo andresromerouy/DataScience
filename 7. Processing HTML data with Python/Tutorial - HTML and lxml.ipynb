{
 "cells": [
  {
   "cell_type": "markdown",
   "metadata": {},
   "source": [
    "# Tutorial - HTML and lxml"
   ]
  },
  {
   "cell_type": "markdown",
   "metadata": {},
   "source": [
    "### A toy HTML example"
   ]
  },
  {
   "cell_type": "markdown",
   "metadata": {},
   "source": [
    "**HTML** (Hypertext Markup Language) is the language in which are written the documents designed to be displayed in a web browser. The web browser receives HTML documents from a web server or from local storage and renders the documents as multimedia web pages.\n",
    "\n",
    "An extremely simple example of a HTML document follows. \n",
    "\n",
    "    <html>\n",
    "\n",
    "\t<head>\n",
    "    \n",
    "        <title>Data Viz</title>\n",
    "    \n",
    "    </head>\n",
    "\n",
    "\t<body>\n",
    "\n",
    "\t\t<div class=\"course\">Data Visualization</div>\n",
    "\n",
    "\t\t<div class=\"program\">MBA full-time</div>`\n",
    "\n",
    "\t\t<a class=\"professor\", href=\"https://www.iese.edu/faculty-research/faculty/miguel-angel-canela\">Miguel Ángel Canela</a>\n",
    "\n",
    "\t</body>\n",
    "\n",
    "\t</html>\n",
    "    \n",
    "The structure of a HTML document is made by the **tags**. Every part of the document is opened by a **start tag** (`<tag>`) and closed by an `end tag` (`</tag>`). The tags create a **tree-like structure** in the document. The `html` node is the **root node**, with two **child nodes**, `head` and `body`. \n",
    "\n",
    "Here, the `head` node has one child, while the `body` node has three children, which are **siblings**. The `title` node contains the string `'Data Viz'`, enclosed between the start tag and the end tag (this can also be said of the `head` node). This string is the **node value**. \n",
    "\n",
    "Also, some nodes have **attributes**. The attributes are contained in the start tag. The `div` nodes have one `class` attribute, while the `a` node has two attributes: a `class` attribute and a `href` attribute. `class` attributes are very frequent, and we take advantage of them in **web scraping**. \n",
    "\n",
    "The `a` node has a special role. It marks a **hyperlink**, which is used to link a page to another page, or to download a file. The most important attribute of this node is the `href` attribute, which indicates the link's destination."
   ]
  },
  {
   "cell_type": "markdown",
   "metadata": {},
   "source": [
    "### Parsing HTML code"
   ]
  },
  {
   "cell_type": "markdown",
   "metadata": {},
   "source": [
    "The package `lxml` provides many useful tools for parsing XML (and HTML) documents. This tutorial shows how to use some methods of the subpackage `lxml.html` to extract pieces of information from a HTML document, using the toy example displayed above. First, I create in Python a string variable, whose value is the HTML code. Note that I mark the line breaks with the backslash (`\\`)."
   ]
  },
  {
   "cell_type": "code",
   "execution_count": 1,
   "metadata": {},
   "outputs": [],
   "source": [
    "page = '<html> \\\n",
    "  <head> \\\n",
    "  <title>Data Viz</title> \\\n",
    "  </head> \\\n",
    "  <body> \\\n",
    "  <div class=\"course\" >Data Visualization</div> \\\n",
    "  <div class=\"program\">MBA full-time</div> \\\n",
    "  <a class=\"professor\", \\\n",
    "  href=\"https://www.iese.edu/faculty-research/faculty/miguel-angel-canela\">Miguel Ángel Canela</a> \\\n",
    "  </body> \\\n",
    "  </html>'"
   ]
  },
  {
   "cell_type": "code",
   "execution_count": 2,
   "metadata": {},
   "outputs": [
    {
     "data": {
      "text/plain": [
       "'<html>   <head>   <title>Data Viz</title>   </head>   <body>   <div class=\"course\" >Data Visualization</div>   <div class=\"program\">MBA full-time</div>   <a class=\"professor\",   href=\"https://www.iese.edu/faculty-research/faculty/miguel-angel-canela\">Miguel Ángel Canela</a>   </body>   </html>'"
      ]
     },
     "execution_count": 2,
     "metadata": {},
     "output_type": "execute_result"
    }
   ],
   "source": [
    "page"
   ]
  },
  {
   "cell_type": "markdown",
   "metadata": {},
   "source": [
    "Next, I parse this string with the function `fromstring`, from the pckage `lxml`, learning the tree structure."
   ]
  },
  {
   "cell_type": "code",
   "execution_count": 3,
   "metadata": {},
   "outputs": [],
   "source": [
    "from lxml import html"
   ]
  },
  {
   "cell_type": "code",
   "execution_count": 4,
   "metadata": {},
   "outputs": [],
   "source": [
    "tree = html.fromstring(page)"
   ]
  },
  {
   "cell_type": "markdown",
   "metadata": {},
   "source": [
    "Here, `tree` is a `lxml` object, which stores in a special way the node hierarchy and the information contained in the nodes."
   ]
  },
  {
   "cell_type": "code",
   "execution_count": 5,
   "metadata": {},
   "outputs": [
    {
     "data": {
      "text/plain": [
       "<Element html at 0x108e1d830>"
      ]
     },
     "execution_count": 5,
     "metadata": {},
     "output_type": "execute_result"
    }
   ],
   "source": [
    "tree"
   ]
  },
  {
   "cell_type": "code",
   "execution_count": 6,
   "metadata": {},
   "outputs": [
    {
     "data": {
      "text/plain": [
       "lxml.html.HtmlElement"
      ]
     },
     "execution_count": 6,
     "metadata": {},
     "output_type": "execute_result"
    }
   ],
   "source": [
    "type(tree)"
   ]
  },
  {
   "cell_type": "markdown",
   "metadata": {},
   "source": [
    "The hierarchical structure stored in `tree` can be easily explored:"
   ]
  },
  {
   "cell_type": "code",
   "execution_count": 7,
   "metadata": {},
   "outputs": [
    {
     "data": {
      "text/plain": [
       "<Element head at 0x108e262f0>"
      ]
     },
     "execution_count": 7,
     "metadata": {},
     "output_type": "execute_result"
    }
   ],
   "source": [
    "tree[0]"
   ]
  },
  {
   "cell_type": "code",
   "execution_count": 8,
   "metadata": {},
   "outputs": [
    {
     "data": {
      "text/plain": [
       "<Element body at 0x108e265f0>"
      ]
     },
     "execution_count": 8,
     "metadata": {},
     "output_type": "execute_result"
    }
   ],
   "source": [
    "tree[1]"
   ]
  },
  {
   "cell_type": "code",
   "execution_count": 9,
   "metadata": {},
   "outputs": [
    {
     "data": {
      "text/plain": [
       "<Element div at 0x107f77f50>"
      ]
     },
     "execution_count": 9,
     "metadata": {},
     "output_type": "execute_result"
    }
   ],
   "source": [
    "tree[1][0]"
   ]
  },
  {
   "cell_type": "markdown",
   "metadata": {},
   "source": [
    "To extract the information from these objects in a format which can be managed by common Python tools, we have two functions: \n",
    "\n",
    "* `text` extracts the **node value**, that is, the text between the node tags.\n",
    "\n",
    "* `attrib` extracts the **value of an attribute** (note that I use square brackets for this function, instead of the usual parenthesis).\n",
    "\n",
    "The following two examples illustrate the use of these functions."
   ]
  },
  {
   "cell_type": "code",
   "execution_count": 10,
   "metadata": {},
   "outputs": [
    {
     "data": {
      "text/plain": [
       "'Data Visualization'"
      ]
     },
     "execution_count": 10,
     "metadata": {},
     "output_type": "execute_result"
    }
   ],
   "source": [
    "tree[1][0].text"
   ]
  },
  {
   "cell_type": "code",
   "execution_count": 11,
   "metadata": {},
   "outputs": [
    {
     "data": {
      "text/plain": [
       "'course'"
      ]
     },
     "execution_count": 11,
     "metadata": {},
     "output_type": "execute_result"
    }
   ],
   "source": [
    "tree[1][0].attrib['class']"
   ]
  },
  {
   "cell_type": "markdown",
   "metadata": {},
   "source": [
    "### XPath expressions"
   ]
  },
  {
   "cell_type": "markdown",
   "metadata": {},
   "source": [
    "Like HTML, **XML** (eXtensible Markup Language) is also a markup language. The markup in XML is also defined by the tags, but these are not predefined as in HTML (`head`, `body`, etc). **XPath** is a query language for selecting nodes in a XML document, which can be used also with a HTML document.\n",
    "\n",
    "XPath expressions look like the path expressions in UNIX (Mac/Linux) file systems. For instance, `/html/head` denotes the `head` node, while `/html/body` denotes the `body` node. These two are easy, because there is only one `head` node and one `body` node. But there are typically many `div` nodes. So, the XPath expressions can be multivariate, like `/html/body/div`, which denotes, in the example, the two `div` nodes. These nodes can be identified as `/html/body/div[1]` and `/html/body/div[2]`. Note that XPath starts counting at 1, not at 0 like Python.\n",
    "\n",
    "For the real-world pages, to find paths for the nodes that contain the relevant information is not as easy as in our toy example, though practice makes a difference. Many practitioners help themselves with the *Inspector*, a tool which comes with the browser in the same menu as the *View Source* tool."
   ]
  },
  {
   "cell_type": "markdown",
   "metadata": {},
   "source": [
    "### The function xpath"
   ]
  },
  {
   "cell_type": "markdown",
   "metadata": {},
   "source": [
    "The function `xpath` extracts all the nodes that agree with a XPath expression. The following example is clear:"
   ]
  },
  {
   "cell_type": "code",
   "execution_count": 12,
   "metadata": {},
   "outputs": [
    {
     "data": {
      "text/plain": [
       "[<Element div at 0x107f77f50>, <Element div at 0x108e267d0>]"
      ]
     },
     "execution_count": 12,
     "metadata": {},
     "output_type": "execute_result"
    }
   ],
   "source": [
    "tree.xpath('/html/body/div')"
   ]
  },
  {
   "cell_type": "markdown",
   "metadata": {},
   "source": [
    "Note that `xpath` returns a list, whose elements are `lxml` objects. Since HTML documents can be large, it is practical to shorten XPath expressions by omitting intermediate nodes. So, the `div` nodes of the example can be simply identified as `//div`:"
   ]
  },
  {
   "cell_type": "code",
   "execution_count": 13,
   "metadata": {},
   "outputs": [
    {
     "data": {
      "text/plain": [
       "[<Element div at 0x107f77f50>, <Element div at 0x108e267d0>]"
      ]
     },
     "execution_count": 13,
     "metadata": {},
     "output_type": "execute_result"
    }
   ],
   "source": [
    "tree.xpath('//div')"
   ]
  },
  {
   "cell_type": "markdown",
   "metadata": {},
   "source": [
    "Although this is very practical, it would not be specific enough in a HTML document containing many `div` nodes in different places. A method frequently used in web scraping is to identify the target nodes by specifying an attribute value, as in the following example, where the first `div` node of the example is identified."
   ]
  },
  {
   "cell_type": "code",
   "execution_count": 14,
   "metadata": {},
   "outputs": [
    {
     "data": {
      "text/plain": [
       "[<Element div at 0x107f77f50>]"
      ]
     },
     "execution_count": 14,
     "metadata": {},
     "output_type": "execute_result"
    }
   ],
   "source": [
    "tree.xpath('/html/body/div[@class=\"course\"]')"
   ]
  },
  {
   "cell_type": "markdown",
   "metadata": {},
   "source": [
    "### Extracting information from the nodes"
   ]
  },
  {
   "cell_type": "markdown",
   "metadata": {},
   "source": [
    "To extract the information from the lists returned by `xpath`, we can use the functions `text` and `attrib`. The first one can be added at the end of the XPath expression:"
   ]
  },
  {
   "cell_type": "code",
   "execution_count": 15,
   "metadata": {},
   "outputs": [
    {
     "data": {
      "text/plain": [
       "['Data Visualization', 'MBA full-time']"
      ]
     },
     "execution_count": 15,
     "metadata": {},
     "output_type": "execute_result"
    }
   ],
   "source": [
    "tree.xpath('//div/text()')"
   ]
  },
  {
   "cell_type": "markdown",
   "metadata": {},
   "source": [
    "But it can also be applied after `tree.xpath`, instead of being part of the XPath expression. Note that, since `tree.xpath('//div/text()')` is a list, so I cannot apply directly `text`, even if the list had a single element (it has two in this example). "
   ]
  },
  {
   "cell_type": "code",
   "execution_count": 16,
   "metadata": {},
   "outputs": [
    {
     "data": {
      "text/plain": [
       "'Data Visualization'"
      ]
     },
     "execution_count": 16,
     "metadata": {},
     "output_type": "execute_result"
    }
   ],
   "source": [
    "tree.xpath('//div')[0].text"
   ]
  },
  {
   "cell_type": "markdown",
   "metadata": {},
   "source": [
    "To extract the value of an attribute, you can do as in:"
   ]
  },
  {
   "cell_type": "code",
   "execution_count": 17,
   "metadata": {},
   "outputs": [
    {
     "data": {
      "text/plain": [
       "'https://www.iese.edu/faculty-research/faculty/miguel-angel-canela'"
      ]
     },
     "execution_count": 17,
     "metadata": {},
     "output_type": "execute_result"
    }
   ],
   "source": [
    "tree.xpath('//a/@href')[0]"
   ]
  },
  {
   "cell_type": "markdown",
   "metadata": {},
   "source": [
    "This also admits an alternative syntax:"
   ]
  },
  {
   "cell_type": "code",
   "execution_count": 18,
   "metadata": {},
   "outputs": [
    {
     "data": {
      "text/plain": [
       "'https://www.iese.edu/faculty-research/faculty/miguel-angel-canela'"
      ]
     },
     "execution_count": 18,
     "metadata": {},
     "output_type": "execute_result"
    }
   ],
   "source": [
    "tree.xpath('//a')[0].attrib['href']"
   ]
  },
  {
   "cell_type": "markdown",
   "metadata": {},
   "source": [
    "### Homework"
   ]
  },
  {
   "cell_type": "markdown",
   "metadata": {},
   "source": [
    "IESE Business School displays information of the Faculty members in 11 web pages. The URL for the second one is `https://www.iese.edu/search/professors/2`. You can get the source code of the page through the contextual menu that opens when right-clicking anywhere on the page. The file `iese.html` contains that code, slightly edited by dropping tabs and line breaks that may foul Python when copypasting the code in the console. \n",
    "\n",
    "1. Copy the code, enter `page = ''` in the Pyton console and paste the code between the quote marks. Then press the `Return` key. So, you have the source code as a string in Python. This HTML document is much longer than my toy example, and contains other tags, like `<ul>`, `<li>` and `<script>`. \n",
    "\n",
    "2. Use the tools presented in this tutorial to extract from the code three lists, with the professors's names (eg \"Miguel Ángel Canela\"), the professors' descriptions (eg \"Associate Professor of Managerial Decision Sciences\") and the links to the professors' individual pages (eg \"https://www.iese.edu/faculty-research/faculty/miguel-angel-canela\"), respectively. \n",
    "\n",
    "3. Use the function `pd.DataFrame` to create a data frame with three columns, `name`, `description` and `link`, containing the data of the these lists.\n",
    "\n",
    "4. Use the function `.to_excel` to export the data collected to an Excel file."
   ]
  }
 ],
 "metadata": {
  "kernelspec": {
   "display_name": "Python 3",
   "language": "python",
   "name": "python3"
  },
  "language_info": {
   "codemirror_mode": {
    "name": "ipython",
    "version": 3
   },
   "file_extension": ".py",
   "mimetype": "text/x-python",
   "name": "python",
   "nbconvert_exporter": "python",
   "pygments_lexer": "ipython3",
   "version": "3.7.9"
  }
 },
 "nbformat": 4,
 "nbformat_minor": 4
}
