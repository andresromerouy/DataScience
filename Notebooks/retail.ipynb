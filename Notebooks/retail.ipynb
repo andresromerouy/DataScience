{
  "cells": [
    {
      "cell_type": "markdown",
      "metadata": {
        "id": "view-in-github",
        "colab_type": "text"
      },
      "source": [
        "<a href=\"https://colab.research.google.com/github/cinnData/DataSci/blob/main/Notebooks/retail.ipynb\" target=\"_parent\"><img src=\"https://colab.research.google.com/assets/colab-badge.svg\" alt=\"Open In Colab\"/></a>"
      ]
    },
    {
      "cell_type": "markdown",
      "id": "75094338",
      "metadata": {
        "id": "75094338"
      },
      "source": [
        "# Example - RFM based segmentation in online retail transaction data"
      ]
    },
    {
      "cell_type": "markdown",
      "id": "d368e5c2",
      "metadata": {
        "id": "d368e5c2"
      },
      "source": [
        "### Importing the data"
      ]
    },
    {
      "cell_type": "code",
      "execution_count": null,
      "id": "640eba76",
      "metadata": {
        "id": "640eba76"
      },
      "outputs": [],
      "source": [
        "import pandas as pd"
      ]
    },
    {
      "cell_type": "code",
      "execution_count": null,
      "id": "2891a083",
      "metadata": {
        "id": "2891a083"
      },
      "outputs": [],
      "source": [
        "path = 'https://raw.githubusercontent.com/cinnData/DataSci/main/Data/'\n",
        "filename = path + 'retail.csv.zip'\n",
        "df = pd.read_csv(filename)"
      ]
    },
    {
      "cell_type": "code",
      "execution_count": null,
      "id": "8aac1260",
      "metadata": {
        "id": "8aac1260"
      },
      "outputs": [],
      "source": [
        "df.head()"
      ]
    },
    {
      "cell_type": "code",
      "execution_count": null,
      "id": "9dd95f18",
      "metadata": {
        "id": "9dd95f18"
      },
      "outputs": [],
      "source": [
        "pd.crosstab(df['InvoiceNo'].str.contains('C'), df['Quantity'] < 0)"
      ]
    },
    {
      "cell_type": "markdown",
      "id": "b67f21dd",
      "metadata": {
        "id": "b67f21dd"
      },
      "source": [
        "### Q1. New column with the number of days since the invoice was generated"
      ]
    },
    {
      "cell_type": "code",
      "execution_count": null,
      "id": "7cc17505",
      "metadata": {
        "id": "7cc17505"
      },
      "outputs": [],
      "source": [
        "df['InvoiceDate'] = df['InvoiceDate'].astype('datetime64[D]')"
      ]
    },
    {
      "cell_type": "code",
      "execution_count": null,
      "id": "fe8a4535",
      "metadata": {
        "id": "fe8a4535"
      },
      "outputs": [],
      "source": [
        "max_date = max(df['InvoiceDate'])\n",
        "max_date"
      ]
    },
    {
      "cell_type": "code",
      "execution_count": null,
      "id": "2fdf9744",
      "metadata": {
        "id": "2fdf9744"
      },
      "outputs": [],
      "source": [
        "df['Diff'] = (max_date - df['InvoiceDate']).dt.days\n",
        "df.head()"
      ]
    },
    {
      "cell_type": "markdown",
      "id": "d84f3147",
      "metadata": {
        "id": "d84f3147"
      },
      "source": [
        "### Q2a. Creating recency and frequency data"
      ]
    },
    {
      "cell_type": "code",
      "execution_count": null,
      "id": "8edb3627",
      "metadata": {
        "id": "8edb3627"
      },
      "outputs": [],
      "source": [
        "RF = df.groupby('CustomerID')['Diff'].agg(['min', 'count'])\n",
        "RF.head()"
      ]
    },
    {
      "cell_type": "code",
      "execution_count": null,
      "id": "180218e0",
      "metadata": {
        "id": "180218e0"
      },
      "outputs": [],
      "source": [
        "RF.columns = ['Recency', 'Frequency']"
      ]
    },
    {
      "cell_type": "markdown",
      "id": "e78a4d0e",
      "metadata": {
        "id": "e78a4d0e"
      },
      "source": [
        "### Q2b. Creating monetary data"
      ]
    },
    {
      "cell_type": "code",
      "execution_count": null,
      "id": "f0e2d200",
      "metadata": {
        "id": "f0e2d200"
      },
      "outputs": [],
      "source": [
        "df['Monetary'] = df['Quantity']*df['UnitPrice']"
      ]
    },
    {
      "cell_type": "code",
      "execution_count": null,
      "id": "006c8daa",
      "metadata": {
        "id": "006c8daa"
      },
      "outputs": [],
      "source": [
        "M = df.groupby('CustomerID')['Monetary'].sum()\n",
        "M.head()"
      ]
    },
    {
      "cell_type": "markdown",
      "id": "ddca3bad",
      "metadata": {
        "id": "ddca3bad"
      },
      "source": [
        "### Q2c. Joining the two data sets"
      ]
    },
    {
      "cell_type": "code",
      "execution_count": null,
      "id": "97e49b71",
      "metadata": {
        "id": "97e49b71"
      },
      "outputs": [],
      "source": [
        "RFM = RF.merge(M, left_index=True, right_index=True)\n",
        "RFM.head()"
      ]
    },
    {
      "cell_type": "code",
      "execution_count": null,
      "id": "c4cdef09",
      "metadata": {
        "id": "c4cdef09"
      },
      "outputs": [],
      "source": [
        "RFM.describe()"
      ]
    },
    {
      "cell_type": "markdown",
      "id": "ff39dfce",
      "metadata": {
        "id": "ff39dfce"
      },
      "source": [
        "### Q3b. Normalization"
      ]
    },
    {
      "cell_type": "code",
      "execution_count": null,
      "id": "65e54f97",
      "metadata": {
        "id": "65e54f97"
      },
      "outputs": [],
      "source": [
        "import numpy as np"
      ]
    },
    {
      "cell_type": "code",
      "execution_count": null,
      "id": "a4c35884",
      "metadata": {
        "id": "a4c35884"
      },
      "outputs": [],
      "source": [
        "def normalize(x): return (x - np.min(x))/(np.max(x) - np.min(x))"
      ]
    },
    {
      "cell_type": "code",
      "execution_count": null,
      "id": "a335220c",
      "metadata": {
        "id": "a335220c"
      },
      "outputs": [],
      "source": [
        "RFM1 = RFM.apply(normalize, axis=0)"
      ]
    },
    {
      "cell_type": "markdown",
      "id": "a86fee92",
      "metadata": {
        "id": "a86fee92"
      },
      "source": [
        "### Q3c. 8-cluster analysis"
      ]
    },
    {
      "cell_type": "code",
      "execution_count": null,
      "id": "a3c881f6",
      "metadata": {
        "id": "a3c881f6"
      },
      "outputs": [],
      "source": [
        "import scipy.cluster.vq as cluster"
      ]
    },
    {
      "cell_type": "code",
      "execution_count": null,
      "id": "19b465c8",
      "metadata": {
        "id": "19b465c8"
      },
      "outputs": [],
      "source": [
        "center = cluster.kmeans(RFM1, 8)[0]\n",
        "center"
      ]
    },
    {
      "cell_type": "code",
      "execution_count": null,
      "id": "e2bb4669",
      "metadata": {
        "id": "e2bb4669"
      },
      "outputs": [],
      "source": [
        "label = cluster.vq(RFM1, center)[0]\n",
        "RFM['Segment'] = label\n",
        "RFM.head()"
      ]
    },
    {
      "cell_type": "code",
      "execution_count": null,
      "id": "0e88c9ac",
      "metadata": {
        "id": "0e88c9ac"
      },
      "outputs": [],
      "source": [
        "RFM['Segment'].value_counts()"
      ]
    },
    {
      "cell_type": "markdown",
      "id": "b08bb646",
      "metadata": {
        "id": "b08bb646"
      },
      "source": [
        "### Q4a. Binarization"
      ]
    },
    {
      "cell_type": "code",
      "execution_count": null,
      "id": "d0a90b42",
      "metadata": {
        "id": "d0a90b42"
      },
      "outputs": [],
      "source": [
        "RFM['BinRecency'] = ((RFM['Recency'] > RFM['Recency'].median()) + 0).astype(str)\n",
        "RFM['BinFrequency'] = ((RFM['Frequency'] > RFM['Frequency'].median()) + 0).astype(str)\n",
        "RFM['BinMonetary'] = ((RFM['Monetary'] > RFM['Monetary'].median()) + 0).astype(str)\n",
        "RFM.head()"
      ]
    },
    {
      "cell_type": "markdown",
      "id": "c1cfd463",
      "metadata": {
        "id": "c1cfd463"
      },
      "source": [
        "### Q4b. Compare this partition with that of the preceding question"
      ]
    },
    {
      "cell_type": "code",
      "execution_count": null,
      "id": "6017d491",
      "metadata": {
        "id": "6017d491"
      },
      "outputs": [],
      "source": [
        "RFM['BinSegment'] = RFM['BinRecency'] + RFM['BinFrequency'] + RFM['BinMonetary']\n",
        "RFM.head()"
      ]
    },
    {
      "cell_type": "code",
      "execution_count": null,
      "id": "1b5d01b7",
      "metadata": {
        "id": "1b5d01b7"
      },
      "outputs": [],
      "source": [
        "pd.crosstab(RFM['Segment'], RFM['BinSegment'])"
      ]
    }
  ],
  "metadata": {
    "kernelspec": {
      "display_name": "Python 3 (ipykernel)",
      "language": "python",
      "name": "python3"
    },
    "language_info": {
      "codemirror_mode": {
        "name": "ipython",
        "version": 3
      },
      "file_extension": ".py",
      "mimetype": "text/x-python",
      "name": "python",
      "nbconvert_exporter": "python",
      "pygments_lexer": "ipython3",
      "version": "3.10.6"
    },
    "colab": {
      "provenance": [],
      "include_colab_link": true
    }
  },
  "nbformat": 4,
  "nbformat_minor": 5
}