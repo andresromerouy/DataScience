{
  "cells": [
    {
      "cell_type": "markdown",
      "metadata": {
        "id": "view-in-github",
        "colab_type": "text"
      },
      "source": [
        "<a href=\"https://colab.research.google.com/github/cinnData/DataSci/blob/main/Notebooks/assign-1.ipynb\" target=\"_parent\"><img src=\"https://colab.research.google.com/assets/colab-badge.svg\" alt=\"Open In Colab\"/></a>"
      ]
    },
    {
      "cell_type": "markdown",
      "id": "7ed6bb4d",
      "metadata": {
        "id": "7ed6bb4d"
      },
      "source": [
        "# Assignment 1"
      ]
    },
    {
      "cell_type": "markdown",
      "id": "db978fb8",
      "metadata": {
        "id": "db978fb8"
      },
      "source": [
        "### Q1a. Distribution of the living area"
      ]
    },
    {
      "cell_type": "code",
      "execution_count": null,
      "id": "5b4fba38",
      "metadata": {
        "id": "5b4fba38"
      },
      "outputs": [],
      "source": [
        "import pandas as pd\n",
        "path = 'https://raw.githubusercontent.com/cinnData/DataSci/main/Data/'\n",
        "filename = path + 'roxbury.csv'\n",
        "df = pd.read_csv(filename)"
      ]
    },
    {
      "cell_type": "code",
      "execution_count": null,
      "id": "3d93ab96",
      "metadata": {
        "id": "3d93ab96"
      },
      "outputs": [],
      "source": [
        "df['living_percent'] = 100*df['living_area']/df['gross_area']\n",
        "df"
      ]
    },
    {
      "cell_type": "code",
      "execution_count": null,
      "id": "c0be1e73",
      "metadata": {
        "id": "c0be1e73"
      },
      "outputs": [],
      "source": [
        "df['living_percent'].plot.hist(figsize=(7,5), color='gray', edgecolor='white');"
      ]
    },
    {
      "cell_type": "markdown",
      "id": "b9e6c67e",
      "metadata": {
        "id": "b9e6c67e"
      },
      "source": [
        "### Q1b. Association with the home value"
      ]
    },
    {
      "cell_type": "code",
      "execution_count": null,
      "id": "e1ac344a",
      "metadata": {
        "id": "e1ac344a"
      },
      "outputs": [],
      "source": [
        "df.plot.scatter(x='living_percent', y='value', figsize=(5,5), color='gray', s=2);"
      ]
    },
    {
      "cell_type": "code",
      "execution_count": null,
      "id": "a6688cec",
      "metadata": {
        "id": "a6688cec"
      },
      "outputs": [],
      "source": [
        "df[['living_percent', 'value']].corr().round(2)"
      ]
    },
    {
      "cell_type": "code",
      "execution_count": null,
      "id": "794fdc12",
      "metadata": {
        "id": "794fdc12"
      },
      "outputs": [],
      "source": [
        "df['living_percent'].corr(df['value']).round(2)"
      ]
    },
    {
      "cell_type": "markdown",
      "id": "cfe74f82",
      "metadata": {
        "id": "cfe74f82"
      },
      "source": [
        "### Q2. Hosts with many listings"
      ]
    },
    {
      "cell_type": "code",
      "execution_count": null,
      "id": "6a01d0a7",
      "metadata": {
        "id": "6a01d0a7"
      },
      "outputs": [],
      "source": [
        "filename = path + 'airbnb.csv'\n",
        "df = pd.read_csv(filename, index_col=0)"
      ]
    },
    {
      "cell_type": "code",
      "execution_count": null,
      "id": "26dd3bc4",
      "metadata": {
        "id": "26dd3bc4"
      },
      "outputs": [],
      "source": [
        "df['host_id'].value_counts().head(10)"
      ]
    },
    {
      "cell_type": "markdown",
      "id": "bb82c15e",
      "metadata": {
        "id": "bb82c15e"
      },
      "source": [
        "### Q3a. Pick the hosts with more than 100 listings"
      ]
    },
    {
      "cell_type": "code",
      "execution_count": null,
      "id": "f88b21df",
      "metadata": {
        "id": "f88b21df"
      },
      "outputs": [],
      "source": [
        "superhost_table = df['host_id'].value_counts()[df['host_id'].value_counts() > 100]\n",
        "superhost_table"
      ]
    },
    {
      "cell_type": "code",
      "execution_count": null,
      "id": "f4a9ef0c",
      "metadata": {
        "id": "f4a9ef0c"
      },
      "outputs": [],
      "source": [
        "superhost_list = superhost_table.index\n",
        "superhost_list"
      ]
    },
    {
      "cell_type": "markdown",
      "id": "67196380",
      "metadata": {
        "id": "67196380"
      },
      "source": [
        "### Q3b. Data subset containing only the listings managed by those hosts"
      ]
    },
    {
      "cell_type": "code",
      "execution_count": null,
      "id": "4b83745d",
      "metadata": {
        "id": "4b83745d"
      },
      "outputs": [],
      "source": [
        "df1 = df[df['host_id'].isin(superhost_list)]\n",
        "df1"
      ]
    },
    {
      "cell_type": "markdown",
      "id": "296e8c76",
      "metadata": {
        "id": "296e8c76"
      },
      "source": [
        "### Q3c. Are those particular hosts focused on certain neighbourhoods?"
      ]
    },
    {
      "cell_type": "code",
      "execution_count": null,
      "id": "a0921974",
      "metadata": {
        "id": "a0921974"
      },
      "outputs": [],
      "source": [
        "df.groupby(by='neighbourhood')['price'].agg(['count', 'median']).sort_values(by='count',\n",
        "  ascending=False).head(10)"
      ]
    },
    {
      "cell_type": "code",
      "execution_count": null,
      "id": "841dee0d",
      "metadata": {
        "id": "841dee0d"
      },
      "outputs": [],
      "source": [
        "df1['neighbourhood'].value_counts().head(10)"
      ]
    }
  ],
  "metadata": {
    "kernelspec": {
      "display_name": "Python 3 (ipykernel)",
      "language": "python",
      "name": "python3"
    },
    "language_info": {
      "codemirror_mode": {
        "name": "ipython",
        "version": 3
      },
      "file_extension": ".py",
      "mimetype": "text/x-python",
      "name": "python",
      "nbconvert_exporter": "python",
      "pygments_lexer": "ipython3",
      "version": "3.10.9"
    },
    "colab": {
      "provenance": [],
      "include_colab_link": true
    }
  },
  "nbformat": 4,
  "nbformat_minor": 5
}