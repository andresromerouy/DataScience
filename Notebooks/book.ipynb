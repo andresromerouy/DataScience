{
  "cells": [
    {
      "cell_type": "markdown",
      "metadata": {
        "id": "view-in-github",
        "colab_type": "text"
      },
      "source": [
        "<a href=\"https://colab.research.google.com/github/cinnData/DataSci/blob/main/Notebooks/book.ipynb\" target=\"_parent\"><img src=\"https://colab.research.google.com/assets/colab-badge.svg\" alt=\"Open In Colab\"/></a>"
      ]
    },
    {
      "cell_type": "markdown",
      "id": "4b73e4a1",
      "metadata": {
        "id": "4b73e4a1"
      },
      "source": [
        "# Example - Book recommendations"
      ]
    },
    {
      "cell_type": "markdown",
      "id": "ca07c2aa",
      "metadata": {
        "id": "ca07c2aa"
      },
      "source": [
        "### Importing data from CSV files (use path if data and notebook are not in the same folder)"
      ]
    },
    {
      "cell_type": "code",
      "execution_count": null,
      "id": "e2819dce",
      "metadata": {
        "id": "e2819dce"
      },
      "outputs": [],
      "source": [
        "import pandas as pd\n",
        "ratings = pd.read_csv('book_ratings.csv')\n",
        "ratings.info()"
      ]
    },
    {
      "cell_type": "code",
      "execution_count": null,
      "id": "ff5cf5c8",
      "metadata": {
        "id": "ff5cf5c8"
      },
      "outputs": [],
      "source": [
        "items = pd.read_csv('book_items.csv')\n",
        "items.info()"
      ]
    },
    {
      "cell_type": "markdown",
      "id": "adcbdcef",
      "metadata": {
        "id": "adcbdcef"
      },
      "source": [
        "### Q1. How often do bookcrossers rate the books they pick?"
      ]
    },
    {
      "cell_type": "code",
      "execution_count": null,
      "id": "218c3ca0",
      "metadata": {
        "id": "218c3ca0"
      },
      "outputs": [],
      "source": [
        "(ratings['rating'] > 0).mean().round(3)"
      ]
    },
    {
      "cell_type": "markdown",
      "id": "203a2125",
      "metadata": {
        "id": "203a2125"
      },
      "source": [
        "### Q2. Which titles have been picked more times?"
      ]
    },
    {
      "cell_type": "code",
      "execution_count": null,
      "id": "ee30d9b4",
      "metadata": {
        "id": "ee30d9b4"
      },
      "outputs": [],
      "source": [
        "df = ratings.merge(items)\n",
        "df.info()"
      ]
    },
    {
      "cell_type": "code",
      "execution_count": null,
      "id": "8390f390",
      "metadata": {
        "id": "8390f390"
      },
      "outputs": [],
      "source": [
        "df['title'].value_counts().head(10)"
      ]
    },
    {
      "cell_type": "markdown",
      "id": "a132c71b",
      "metadata": {
        "id": "a132c71b"
      },
      "source": [
        "### Q3. Which books have been rated highest?"
      ]
    },
    {
      "cell_type": "code",
      "execution_count": null,
      "id": "f1f30daa",
      "metadata": {
        "id": "f1f30daa"
      },
      "outputs": [],
      "source": [
        "df1 = df[df['rating'] > 0][['title', 'rating']].groupby(by='title').agg(['mean', 'count'])"
      ]
    },
    {
      "cell_type": "code",
      "execution_count": null,
      "id": "afce129d",
      "metadata": {
        "id": "afce129d"
      },
      "outputs": [],
      "source": [
        "df1.head()"
      ]
    },
    {
      "cell_type": "code",
      "execution_count": null,
      "id": "4152b647",
      "metadata": {
        "id": "4152b647"
      },
      "outputs": [],
      "source": [
        "df1.columns"
      ]
    },
    {
      "cell_type": "code",
      "execution_count": null,
      "id": "9d450728",
      "metadata": {
        "id": "9d450728"
      },
      "outputs": [],
      "source": [
        "df1.columns= ['mean', 'count']"
      ]
    },
    {
      "cell_type": "code",
      "execution_count": null,
      "id": "a4d5c7a2",
      "metadata": {
        "id": "a4d5c7a2"
      },
      "outputs": [],
      "source": [
        "df1[df1['count'] >= 25].sort_values(by='mean', ascending=False).head(10)"
      ]
    },
    {
      "cell_type": "markdown",
      "id": "78a2a207",
      "metadata": {
        "id": "78a2a207"
      },
      "source": [
        "### Q4. How many editions of The Martian Chronicles in English"
      ]
    },
    {
      "cell_type": "code",
      "execution_count": null,
      "id": "75c543c5",
      "metadata": {
        "id": "75c543c5"
      },
      "outputs": [],
      "source": [
        "items[items['title'].str.contains('martian chronicles', case=False)]"
      ]
    },
    {
      "cell_type": "code",
      "execution_count": null,
      "id": "ddde642c",
      "metadata": {
        "id": "ddde642c"
      },
      "outputs": [],
      "source": [
        "mc_isbn = items[items['title'].str.contains('martian chronicles', case=False)]['isbn']\n",
        "mc_isbn"
      ]
    },
    {
      "cell_type": "markdown",
      "id": "697a3ed9",
      "metadata": {
        "id": "697a3ed9"
      },
      "source": [
        "### Q5a. How many ratings of The Martian Chronicles"
      ]
    },
    {
      "cell_type": "code",
      "execution_count": null,
      "id": "b94e20fe",
      "metadata": {
        "id": "b94e20fe"
      },
      "outputs": [],
      "source": [
        "mc_count = (ratings['isbn'].isin(mc_isbn)).sum()\n",
        "mc_count"
      ]
    },
    {
      "cell_type": "markdown",
      "id": "3a88afd1",
      "metadata": {
        "id": "3a88afd1"
      },
      "source": [
        "### Q5b. Selecting data for the recommendation"
      ]
    },
    {
      "cell_type": "code",
      "execution_count": null,
      "id": "7abcdf5f",
      "metadata": {
        "id": "7abcdf5f"
      },
      "outputs": [],
      "source": [
        "mc_users = ratings[ratings['isbn'].isin(mc_isbn)]['user']"
      ]
    },
    {
      "cell_type": "code",
      "execution_count": null,
      "id": "527f149c",
      "metadata": {
        "id": "527f149c"
      },
      "outputs": [],
      "source": [
        "rec_ratings = ratings[ratings['user'].isin(mc_users)]"
      ]
    },
    {
      "cell_type": "code",
      "execution_count": null,
      "id": "b784c5a9",
      "metadata": {
        "id": "b784c5a9"
      },
      "outputs": [],
      "source": [
        "rec_ratings = rec_ratings[~rec_ratings['isbn'].isin(mc_isbn)]"
      ]
    },
    {
      "cell_type": "markdown",
      "id": "072cc96d",
      "metadata": {
        "id": "072cc96d"
      },
      "source": [
        "### Q5c. Recommendation for readers of The Martian Chronicles"
      ]
    },
    {
      "cell_type": "code",
      "execution_count": null,
      "id": "a24e0056",
      "metadata": {
        "id": "a24e0056"
      },
      "outputs": [],
      "source": [
        "rec_ratings['isbn'].value_counts()"
      ]
    },
    {
      "cell_type": "code",
      "execution_count": null,
      "id": "fbd9b239",
      "metadata": {
        "id": "fbd9b239"
      },
      "outputs": [],
      "source": [
        "conf = rec_ratings['isbn'].value_counts()/mc_count\n",
        "conf"
      ]
    },
    {
      "cell_type": "code",
      "execution_count": null,
      "id": "7f0d910e",
      "metadata": {
        "id": "7f0d910e"
      },
      "outputs": [],
      "source": [
        "pd.DataFrame({'conf': conf[:5]}).join(items.set_index('isbn'))[['title', 'author', 'conf']]"
      ]
    }
  ],
  "metadata": {
    "kernelspec": {
      "display_name": "Python 3 (ipykernel)",
      "language": "python",
      "name": "python3"
    },
    "language_info": {
      "codemirror_mode": {
        "name": "ipython",
        "version": 3
      },
      "file_extension": ".py",
      "mimetype": "text/x-python",
      "name": "python",
      "nbconvert_exporter": "python",
      "pygments_lexer": "ipython3",
      "version": "3.10.9"
    },
    "colab": {
      "provenance": [],
      "include_colab_link": true
    }
  },
  "nbformat": 4,
  "nbformat_minor": 5
}