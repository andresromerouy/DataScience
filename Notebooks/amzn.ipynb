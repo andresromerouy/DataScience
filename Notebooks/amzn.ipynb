{
  "cells": [
    {
      "cell_type": "markdown",
      "metadata": {
        "id": "view-in-github",
        "colab_type": "text"
      },
      "source": [
        "<a href=\"https://colab.research.google.com/github/cinnData/DataSci/blob/main/Notebooks/amzn.ipynb\" target=\"_parent\"><img src=\"https://colab.research.google.com/assets/colab-badge.svg\" alt=\"Open In Colab\"/></a>"
      ]
    },
    {
      "cell_type": "markdown",
      "id": "5fd4583f",
      "metadata": {
        "id": "5fd4583f"
      },
      "source": [
        "# Example - Amazon jobs"
      ]
    },
    {
      "cell_type": "markdown",
      "id": "e43c6c0f",
      "metadata": {
        "id": "e43c6c0f"
      },
      "source": [
        "### Importing the data (edit path)"
      ]
    },
    {
      "cell_type": "code",
      "execution_count": null,
      "id": "f395f8a3",
      "metadata": {
        "id": "f395f8a3"
      },
      "outputs": [],
      "source": [
        "import pandas as pd\n",
        "path = 'https://raw.githubusercontent.com/cinnData/DataSci/main/Data/'\n",
        "filename = path + 'amzn.csv.zip'\n",
        "df = pd.read_csv(filename, index_col=0)"
      ]
    },
    {
      "cell_type": "code",
      "execution_count": null,
      "id": "f09b6bfb",
      "metadata": {
        "id": "f09b6bfb"
      },
      "outputs": [],
      "source": [
        "df.info()"
      ]
    },
    {
      "cell_type": "code",
      "execution_count": null,
      "id": "43cc3292",
      "metadata": {
        "id": "43cc3292"
      },
      "outputs": [],
      "source": [
        "df.head()"
      ]
    },
    {
      "cell_type": "markdown",
      "id": "74f65d82",
      "metadata": {
        "id": "74f65d82"
      },
      "source": [
        "### Q1. Count and drop duplicates"
      ]
    },
    {
      "cell_type": "code",
      "execution_count": null,
      "id": "249de2ca",
      "metadata": {
        "id": "249de2ca"
      },
      "outputs": [],
      "source": [
        "df.duplicated().sum()"
      ]
    },
    {
      "cell_type": "code",
      "execution_count": null,
      "id": "ac37ce7d",
      "metadata": {
        "id": "ac37ce7d"
      },
      "outputs": [],
      "source": [
        "df.index.duplicated().sum()"
      ]
    },
    {
      "cell_type": "code",
      "execution_count": null,
      "id": "97ccb803",
      "metadata": {
        "id": "97ccb803"
      },
      "outputs": [],
      "source": [
        "df = df.drop_duplicates()\n",
        "df.shape"
      ]
    },
    {
      "cell_type": "markdown",
      "id": "86725aa6",
      "metadata": {
        "id": "86725aa6"
      },
      "source": [
        "### Q2a. Top-ten locations for software developers at Amazon"
      ]
    },
    {
      "cell_type": "code",
      "execution_count": null,
      "id": "2be0ed9e",
      "metadata": {
        "id": "2be0ed9e"
      },
      "outputs": [],
      "source": [
        "df['location'].value_counts().shape"
      ]
    },
    {
      "cell_type": "code",
      "execution_count": null,
      "id": "8256be1f",
      "metadata": {
        "id": "8256be1f"
      },
      "outputs": [],
      "source": [
        "df['location'].value_counts().head(10)"
      ]
    },
    {
      "cell_type": "markdown",
      "id": "540aae02",
      "metadata": {
        "id": "540aae02"
      },
      "source": [
        "### Q2b. Positions in India"
      ]
    },
    {
      "cell_type": "code",
      "execution_count": null,
      "id": "e1bbca73",
      "metadata": {
        "id": "e1bbca73"
      },
      "outputs": [],
      "source": [
        "df['location'][df['location'].str[:2] == 'IN'].value_counts()"
      ]
    },
    {
      "cell_type": "code",
      "execution_count": null,
      "id": "f2568941",
      "metadata": {
        "id": "f2568941"
      },
      "outputs": [],
      "source": [
        "df['location'][df['location'].str.startswith('IN')].value_counts()"
      ]
    },
    {
      "cell_type": "code",
      "execution_count": null,
      "id": "eb3503e2",
      "metadata": {
        "id": "eb3503e2"
      },
      "outputs": [],
      "source": [
        "df['location'][df['location'].str.contains('^IN')].value_counts()"
      ]
    },
    {
      "cell_type": "markdown",
      "id": "1ecde2e6",
      "metadata": {
        "id": "1ecde2e6"
      },
      "source": [
        "### Q2c. Positions incomplete"
      ]
    },
    {
      "cell_type": "code",
      "execution_count": null,
      "id": "b6beb6f2",
      "metadata": {
        "id": "b6beb6f2"
      },
      "outputs": [],
      "source": [
        "(df['location'].str.count(',') == 2).mean().round(3)"
      ]
    },
    {
      "cell_type": "code",
      "execution_count": null,
      "id": "47efe96d",
      "metadata": {
        "id": "47efe96d"
      },
      "outputs": [],
      "source": [
        "df.location[df['location'].str.count(',') == 1].value_counts().head(10)"
      ]
    },
    {
      "cell_type": "code",
      "execution_count": null,
      "id": "1679deda",
      "metadata": {
        "id": "1679deda"
      },
      "outputs": [],
      "source": [
        "df.location[df['location'].str.count(',') == 0].value_counts()"
      ]
    },
    {
      "cell_type": "markdown",
      "id": "bb2f6aa1",
      "metadata": {
        "id": "bb2f6aa1"
      },
      "source": [
        "### Q3a. Programming languages in the basic qualifications field"
      ]
    },
    {
      "cell_type": "code",
      "execution_count": null,
      "id": "c52ff248",
      "metadata": {
        "id": "c52ff248"
      },
      "outputs": [],
      "source": [
        "df['basic_qualifications'].str.contains('java', case=False).mean().round(3)"
      ]
    },
    {
      "cell_type": "code",
      "execution_count": null,
      "id": "8b938976",
      "metadata": {
        "id": "8b938976"
      },
      "outputs": [],
      "source": [
        "df['basic_qualifications'].str.contains('javascript', case=False).mean().round(3)"
      ]
    },
    {
      "cell_type": "code",
      "execution_count": null,
      "id": "1b626179",
      "metadata": {
        "id": "1b626179"
      },
      "outputs": [],
      "source": [
        "df['basic_qualifications'].str.contains('java script', case=False).mean().round(3)"
      ]
    },
    {
      "cell_type": "code",
      "execution_count": null,
      "id": "acb5cbbb",
      "metadata": {
        "id": "acb5cbbb"
      },
      "outputs": [],
      "source": [
        "df['basic_qualifications'].str.contains('c#', case=False).mean().round(3)"
      ]
    },
    {
      "cell_type": "code",
      "execution_count": null,
      "id": "98f1c315",
      "metadata": {
        "id": "98f1c315"
      },
      "outputs": [],
      "source": [
        "df['basic_qualifications'].str.contains('c\\+', case=False, regex=True).mean().round(3)"
      ]
    },
    {
      "cell_type": "code",
      "execution_count": null,
      "id": "5d99ed8d",
      "metadata": {
        "id": "5d99ed8d"
      },
      "outputs": [],
      "source": [
        "df['basic_qualifications'].str.contains('c+', case=False, regex=False).mean().round(3)"
      ]
    },
    {
      "cell_type": "code",
      "execution_count": null,
      "id": "3f48f500",
      "metadata": {
        "id": "3f48f500"
      },
      "outputs": [],
      "source": [
        "df['basic_qualifications'].str.contains('c+', case=False, regex=True).mean().round(3)"
      ]
    },
    {
      "cell_type": "code",
      "execution_count": null,
      "id": "978e8dc8",
      "metadata": {
        "id": "978e8dc8"
      },
      "outputs": [],
      "source": [
        "df['basic_qualifications'].str.contains('c+', case=False).mean().round(3)"
      ]
    },
    {
      "cell_type": "code",
      "execution_count": null,
      "id": "94943f12",
      "metadata": {
        "id": "94943f12"
      },
      "outputs": [],
      "source": [
        "df['basic_qualifications'].str.contains('sql', case=False).mean().round(3)"
      ]
    },
    {
      "cell_type": "code",
      "execution_count": null,
      "id": "264e09c7",
      "metadata": {
        "id": "264e09c7"
      },
      "outputs": [],
      "source": [
        "df['basic_qualifications'].str.contains('mysql', case=False).mean().round(3)"
      ]
    },
    {
      "cell_type": "code",
      "execution_count": null,
      "id": "32c1de38",
      "metadata": {
        "id": "32c1de38"
      },
      "outputs": [],
      "source": [
        "df['basic_qualifications'].str.contains('python', case=False).mean().round(3)"
      ]
    },
    {
      "cell_type": "markdown",
      "id": "5cf0e7c2",
      "metadata": {
        "id": "5cf0e7c2"
      },
      "source": [
        "### Q3b. Programming languages in basic qualifications (alternative)"
      ]
    },
    {
      "cell_type": "code",
      "execution_count": null,
      "id": "fd7d2c60",
      "metadata": {
        "id": "fd7d2c60"
      },
      "outputs": [],
      "source": [
        "bags = df['basic_qualifications'].str.lower().str.findall('\\w+\\+*')\n",
        "bags"
      ]
    },
    {
      "cell_type": "code",
      "execution_count": null,
      "id": "9f95de33",
      "metadata": {
        "id": "9f95de33"
      },
      "outputs": [],
      "source": [
        "def f(x): return 'java' in x\n",
        "bags.apply(f).mean().round(3)"
      ]
    },
    {
      "cell_type": "code",
      "execution_count": null,
      "id": "cd17302d",
      "metadata": {
        "id": "cd17302d"
      },
      "outputs": [],
      "source": [
        "def g(x): return 'c++' in x\n",
        "bags.apply(g).mean().round(3)"
      ]
    },
    {
      "cell_type": "markdown",
      "id": "67c6032f",
      "metadata": {
        "id": "67c6032f"
      },
      "source": [
        "### Q4. Experience in preferred qualifications"
      ]
    },
    {
      "cell_type": "code",
      "execution_count": null,
      "id": "c842aa24",
      "metadata": {
        "id": "c842aa24"
      },
      "outputs": [],
      "source": [
        "df['preferred_qualifications']"
      ]
    },
    {
      "cell_type": "code",
      "execution_count": null,
      "id": "44b36d11",
      "metadata": {
        "id": "44b36d11"
      },
      "outputs": [],
      "source": [
        "df['preferred_qualifications'].str.contains('experience', case=False).mean().round(3)"
      ]
    },
    {
      "cell_type": "code",
      "execution_count": null,
      "id": "cc73f023",
      "metadata": {
        "id": "cc73f023"
      },
      "outputs": [],
      "source": [
        "df['preferred_qualifications'].str.count('\\+?[0-9]\\+? years').value_counts()"
      ]
    },
    {
      "cell_type": "code",
      "execution_count": null,
      "id": "bbff3a79",
      "metadata": {
        "id": "bbff3a79"
      },
      "outputs": [],
      "source": [
        "df[df['preferred_qualifications'].str.count('[0-9]\\+? years')> 5]"
      ]
    },
    {
      "cell_type": "code",
      "execution_count": null,
      "id": "69e45121",
      "metadata": {
        "id": "69e45121"
      },
      "outputs": [],
      "source": [
        "df['preferred_qualifications'][1542577]"
      ]
    },
    {
      "cell_type": "code",
      "execution_count": null,
      "id": "49cf96b6",
      "metadata": {
        "id": "49cf96b6"
      },
      "outputs": [],
      "source": [
        "df['preferred_qualifications'][1588664]"
      ]
    }
  ],
  "metadata": {
    "kernelspec": {
      "display_name": "Python 3 (ipykernel)",
      "language": "python",
      "name": "python3"
    },
    "language_info": {
      "codemirror_mode": {
        "name": "ipython",
        "version": 3
      },
      "file_extension": ".py",
      "mimetype": "text/x-python",
      "name": "python",
      "nbconvert_exporter": "python",
      "pygments_lexer": "ipython3",
      "version": "3.10.9"
    },
    "colab": {
      "provenance": [],
      "include_colab_link": true
    }
  },
  "nbformat": 4,
  "nbformat_minor": 5
}