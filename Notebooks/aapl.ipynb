{
  "cells": [
    {
      "cell_type": "markdown",
      "metadata": {
        "id": "view-in-github",
        "colab_type": "text"
      },
      "source": [
        "<a href=\"https://colab.research.google.com/github/cinnData/DataSci/blob/main/Notebooks/aapl.ipynb\" target=\"_parent\"><img src=\"https://colab.research.google.com/assets/colab-badge.svg\" alt=\"Open In Colab\"/></a>"
      ]
    },
    {
      "cell_type": "markdown",
      "id": "ddc384c9",
      "metadata": {
        "id": "ddc384c9"
      },
      "source": [
        "# Example - Apple Inc. stock prices"
      ]
    },
    {
      "cell_type": "markdown",
      "id": "e2de6310",
      "metadata": {
        "id": "e2de6310"
      },
      "source": [
        "### Q1. Import the data with date index"
      ]
    },
    {
      "cell_type": "code",
      "execution_count": null,
      "id": "a300c53d",
      "metadata": {
        "id": "a300c53d"
      },
      "outputs": [],
      "source": [
        "import pandas as pd"
      ]
    },
    {
      "cell_type": "code",
      "execution_count": null,
      "id": "78f9dd3d",
      "metadata": {
        "id": "78f9dd3d"
      },
      "outputs": [],
      "source": [
        "path = 'https://raw.githubusercontent.com/cinnData/DataSci/main/Data/'\n",
        "filename = path + 'aapl.csv'\n",
        "df = pd.read_csv(filename, index_col=0, parse_dates=True)"
      ]
    },
    {
      "cell_type": "code",
      "execution_count": null,
      "id": "a4a020bb",
      "metadata": {
        "id": "a4a020bb"
      },
      "outputs": [],
      "source": [
        "df.info()"
      ]
    },
    {
      "cell_type": "code",
      "execution_count": null,
      "id": "d0007c74",
      "metadata": {
        "id": "d0007c74"
      },
      "outputs": [],
      "source": [
        "df.index"
      ]
    },
    {
      "cell_type": "code",
      "execution_count": null,
      "id": "7422750d",
      "metadata": {
        "id": "7422750d"
      },
      "outputs": [],
      "source": [
        "df.index.name = None"
      ]
    },
    {
      "cell_type": "code",
      "execution_count": null,
      "id": "f5b6b120",
      "metadata": {
        "id": "f5b6b120"
      },
      "outputs": [],
      "source": [
        "df.head()"
      ]
    },
    {
      "cell_type": "code",
      "execution_count": null,
      "id": "a1e9910c",
      "metadata": {
        "id": "a1e9910c"
      },
      "outputs": [],
      "source": [
        "df['open'].plot(figsize=(8,5), color='black');"
      ]
    },
    {
      "cell_type": "markdown",
      "id": "a2aa7293",
      "metadata": {
        "id": "a2aa7293"
      },
      "source": [
        "### Q2. Data previous to January 15th"
      ]
    },
    {
      "cell_type": "code",
      "execution_count": null,
      "id": "a265ac51",
      "metadata": {
        "id": "a265ac51"
      },
      "outputs": [],
      "source": [
        "df[:'2019-01-14']"
      ]
    },
    {
      "cell_type": "markdown",
      "id": "29a64e9a",
      "metadata": {
        "id": "29a64e9a"
      },
      "source": [
        "### Q3. Data for Fridays"
      ]
    },
    {
      "cell_type": "code",
      "execution_count": null,
      "id": "3526ab6d",
      "metadata": {
        "id": "3526ab6d"
      },
      "outputs": [],
      "source": [
        "df[df.index.day_name() == 'Friday'].head()"
      ]
    },
    {
      "cell_type": "code",
      "execution_count": null,
      "id": "5202473e",
      "metadata": {
        "id": "5202473e"
      },
      "outputs": [],
      "source": [
        "df[df.index.day_name('ca_ES') == 'Divendres'].head()"
      ]
    },
    {
      "cell_type": "code",
      "execution_count": null,
      "id": "c6d914c3",
      "metadata": {
        "id": "c6d914c3"
      },
      "outputs": [],
      "source": [
        "df[df.index.weekday == 4].head()"
      ]
    },
    {
      "cell_type": "markdown",
      "id": "e06ed48f",
      "metadata": {
        "id": "e06ed48f"
      },
      "source": [
        "### Q4. Distribution of daily returns"
      ]
    },
    {
      "cell_type": "code",
      "execution_count": null,
      "id": "d746a8a0",
      "metadata": {
        "id": "d746a8a0"
      },
      "outputs": [],
      "source": [
        "returns = df['open'].pct_change()\n",
        "returns.head()"
      ]
    },
    {
      "cell_type": "code",
      "execution_count": null,
      "id": "7bc950f8",
      "metadata": {
        "id": "7bc950f8"
      },
      "outputs": [],
      "source": [
        "returns.plot(figsize=(7,5), color='black');"
      ]
    },
    {
      "cell_type": "code",
      "execution_count": null,
      "id": "413750dc",
      "metadata": {
        "id": "413750dc"
      },
      "outputs": [],
      "source": [
        "returns.plot.hist(figsize=(7,5), color='gray', edgecolor='white');"
      ]
    },
    {
      "cell_type": "markdown",
      "id": "f509e4dc",
      "metadata": {
        "id": "f509e4dc"
      },
      "source": [
        "### Q5. Plot weekly average opening price"
      ]
    },
    {
      "cell_type": "code",
      "execution_count": null,
      "id": "b05df8c0",
      "metadata": {
        "id": "b05df8c0"
      },
      "outputs": [],
      "source": [
        "w_open = df['open'].resample('W').mean()"
      ]
    },
    {
      "cell_type": "code",
      "execution_count": null,
      "id": "91bb987b",
      "metadata": {
        "id": "91bb987b"
      },
      "outputs": [],
      "source": [
        "w_open.head()"
      ]
    },
    {
      "cell_type": "code",
      "execution_count": null,
      "id": "3b6aadfa",
      "metadata": {
        "id": "3b6aadfa"
      },
      "outputs": [],
      "source": [
        "w_open.plot(figsize=(8,5), color='black');"
      ]
    },
    {
      "cell_type": "markdown",
      "id": "02c1d3e7",
      "metadata": {
        "id": "02c1d3e7"
      },
      "source": [
        "### Q6. 5-day moving average trend"
      ]
    },
    {
      "cell_type": "code",
      "execution_count": null,
      "id": "6767528e",
      "metadata": {
        "id": "6767528e"
      },
      "outputs": [],
      "source": [
        "df['open'].rolling(5).mean().head(10)"
      ]
    },
    {
      "cell_type": "code",
      "execution_count": null,
      "id": "bcf05c50",
      "metadata": {
        "id": "bcf05c50"
      },
      "outputs": [],
      "source": [
        "ma = df['open'].rolling(5, center=True).mean()\n",
        "ma.head(10)"
      ]
    },
    {
      "cell_type": "code",
      "execution_count": null,
      "id": "c078f3fd",
      "metadata": {
        "id": "c078f3fd"
      },
      "outputs": [],
      "source": [
        "ma.plot(figsize=(8,5), color='black', linestyle='--')\n",
        "df['open'].plot(color='gray');"
      ]
    }
  ],
  "metadata": {
    "kernelspec": {
      "display_name": "Python 3 (ipykernel)",
      "language": "python",
      "name": "python3"
    },
    "language_info": {
      "codemirror_mode": {
        "name": "ipython",
        "version": 3
      },
      "file_extension": ".py",
      "mimetype": "text/x-python",
      "name": "python",
      "nbconvert_exporter": "python",
      "pygments_lexer": "ipython3",
      "version": "3.10.9"
    },
    "colab": {
      "provenance": [],
      "include_colab_link": true
    }
  },
  "nbformat": 4,
  "nbformat_minor": 5
}