{
 "cells": [
  {
   "cell_type": "markdown",
   "metadata": {},
   "source": [
    "# Example - Book recommendations"
   ]
  },
  {
   "cell_type": "markdown",
   "metadata": {},
   "source": [
    "### Introduction"
   ]
  },
  {
   "cell_type": "markdown",
   "metadata": {},
   "source": [
    "**Bookcrossing** is defined as *the practice of leaving a book in a public place to be picked up and read by others, who then do likewise*. The term is derived from BookCrossing (`bookcrossing.com`), a free online book club which was founded to encourage the practice, aiming to *make the whole world a library*.\n",
    "\n",
    "The crossing or exchanging of books may take any of a number of forms, including wild-releasing books in public, direct swaps with other members of the websites, or *book rings* in which books travel in a specified order to participants who want to read a certain book. The community aspect of BookCrossing has grown and expanded in the form of blog or forum discussions, mailing lists and annual conventions throughout the world.\n",
    "\n",
    "BookCrossing was launched on April 21, 2001. By November 2019, there were over 1.9 million members and over 13 million books traveling through 132 countries, of which over 25 thousand books newly \"released in the wild\" in the previous month across over 60 countries. Over 80% of the books were released in the eight most active countries (Germany, United States, Spain, Italy, Australia, United Kingdom, the Netherlands and Brasil). The world's first official International BookCrossing Day took place on April 21st, 2014.\n",
    "\n",
    "Cai-Nicolas Zeigler collected over one million ratings of books from the BookCrossing website. Since the books are identified by the ISBN, what we call here a book is, really, an edition of a book. Popular books, such as *Harry Potter and the Sorcerer's Stone*, have several editions in this database."
   ]
  },
  {
   "cell_type": "markdown",
   "metadata": {},
   "source": [
    "### The data"
   ]
  },
  {
   "cell_type": "markdown",
   "metadata": {},
   "source": [
    "The data for this example come in three tables. The file `book_users.csv` contains information about 278,858 users. The columns are:\n",
    "\n",
    "* `user`, the user's ID (anonymized).\n",
    "\n",
    "* `location`, the user's location, as 'city, state, country'. Example: `moscow, yukon territory, russia`.\n",
    "\n",
    "* `age`, the user's age, in years. Almost 40% of the data are missing.\n",
    "\n",
    "The file `book_items.csv` contains information about 271,360 books on circulation. The columns are: \n",
    "\n",
    "* `isbn`, the ISBN code of the book, which works as the book ID. Invalid ISBN's have already been removed.\n",
    "\n",
    "* `title`, the title of the book.\n",
    "\n",
    "* `author`, the book's author, obtained from Amazon Web Services. In case of several authors, only the first one is provided. One value missing.\n",
    "\n",
    "* `year`, the year of publication, obtained from Amazon Web Services. 1.7% of the values missing.\n",
    "\n",
    "* `publisher`, the book's publisher, obtained from Amazon Web Services. Two values missing.\n",
    "\n",
    "* `image`, an URL linking to cover images. These URLs point to the Amazon web site. Two values missing.\n",
    "\n",
    "The file `book_ratings.csv` contains 1,031,136 ratings. The columns are:\n",
    "\n",
    "* `user`, the user's ID.\n",
    "\n",
    "* `isbn`, the books's ISBN.\n",
    "\n",
    "* `rating`, either the rating given by the user (1--10 range) or 0, when the user did not provide a rating.\n",
    "\n",
    "Source: C-N Ziegler, SM McNee, JA Konstan & G Lausen (2005), Improving Recommendation Lists Through Topic Diversification, in *Proceedings of the 14th International World Wide Web Conference*, Chiba, Japan."
   ]
  },
  {
   "cell_type": "markdown",
   "metadata": {},
   "source": [
    "### Importing the data"
   ]
  },
  {
   "cell_type": "markdown",
   "metadata": {},
   "source": [
    "We start by importing Pandas, as usual."
   ]
  },
  {
   "cell_type": "code",
   "execution_count": 1,
   "metadata": {},
   "outputs": [],
   "source": [
    "import pandas as pd"
   ]
  },
  {
   "cell_type": "markdown",
   "metadata": {},
   "source": [
    "The data consists of three tables. We import the table `ratings` from the GitHub repository as we did with other tables before:"
   ]
  },
  {
   "cell_type": "code",
   "execution_count": 2,
   "metadata": {},
   "outputs": [],
   "source": [
    "url1 = 'https://raw.githubusercontent.com/cinnData/DataSci/main/'\n",
    "url2a = '12.%20Recommender%20systems/book_ratings.csv'\n",
    "urla = url1 + url2a\n",
    "ratings = pd.read_csv(urla)"
   ]
  },
  {
   "cell_type": "code",
   "execution_count": 3,
   "metadata": {},
   "outputs": [
    {
     "name": "stdout",
     "output_type": "stream",
     "text": [
      "<class 'pandas.core.frame.DataFrame'>\n",
      "RangeIndex: 1031136 entries, 0 to 1031135\n",
      "Data columns (total 3 columns):\n",
      " #   Column  Non-Null Count    Dtype \n",
      "---  ------  --------------    ----- \n",
      " 0   user    1031136 non-null  int64 \n",
      " 1   isbn    1031136 non-null  object\n",
      " 2   rating  1031136 non-null  int64 \n",
      "dtypes: int64(2), object(1)\n",
      "memory usage: 23.6+ MB\n"
     ]
    }
   ],
   "source": [
    "ratings.info()"
   ]
  },
  {
   "cell_type": "markdown",
   "metadata": {},
   "source": [
    "The same for the table `users`: "
   ]
  },
  {
   "cell_type": "code",
   "execution_count": 4,
   "metadata": {},
   "outputs": [],
   "source": [
    "url2b = '12.%20Recommender%20systems/book_users.csv'\n",
    "urlb = url1 + url2b\n",
    "users = pd.read_csv(urlb)"
   ]
  },
  {
   "cell_type": "code",
   "execution_count": 5,
   "metadata": {},
   "outputs": [
    {
     "name": "stdout",
     "output_type": "stream",
     "text": [
      "<class 'pandas.core.frame.DataFrame'>\n",
      "RangeIndex: 278858 entries, 0 to 278857\n",
      "Data columns (total 3 columns):\n",
      " #   Column    Non-Null Count   Dtype  \n",
      "---  ------    --------------   -----  \n",
      " 0   user      278858 non-null  int64  \n",
      " 1   location  278858 non-null  object \n",
      " 2   age       168096 non-null  float64\n",
      "dtypes: float64(1), int64(1), object(1)\n",
      "memory usage: 6.4+ MB\n"
     ]
    }
   ],
   "source": [
    "users.info()"
   ]
  },
  {
   "cell_type": "markdown",
   "metadata": {},
   "source": [
    "The table `items` is split in two parts, to comply with the GitHub limitation of 25 Mb. We import the two tables, putting them together with the Pandas function `concat`. By default, `concat` concatenates data frames vertically (`axis=0`)."
   ]
  },
  {
   "cell_type": "code",
   "execution_count": 6,
   "metadata": {},
   "outputs": [],
   "source": [
    "url2c1 = '12.%20Recommender%20systems/book_items-1.csv'\n",
    "urlc1 = url1 + url2c1\n",
    "items1 = pd.read_csv(urlc1)\n",
    "url2c2 = '12.%20Recommender%20systems/book_items-2.csv'\n",
    "urlc2 = url1 + url2c2\n",
    "items2 = pd.read_csv(urlc2)\n",
    "items = pd.concat([items1, items2])"
   ]
  },
  {
   "cell_type": "code",
   "execution_count": 7,
   "metadata": {},
   "outputs": [
    {
     "name": "stdout",
     "output_type": "stream",
     "text": [
      "<class 'pandas.core.frame.DataFrame'>\n",
      "Int64Index: 271360 entries, 0 to 121359\n",
      "Data columns (total 6 columns):\n",
      " #   Column     Non-Null Count   Dtype  \n",
      "---  ------     --------------   -----  \n",
      " 0   isbn       271360 non-null  object \n",
      " 1   title      271360 non-null  object \n",
      " 2   author     271359 non-null  object \n",
      " 3   year       266742 non-null  float64\n",
      " 4   publisher  271358 non-null  object \n",
      " 5   image      271357 non-null  object \n",
      "dtypes: float64(1), object(5)\n",
      "memory usage: 14.5+ MB\n"
     ]
    }
   ],
   "source": [
    "items.info()"
   ]
  },
  {
   "cell_type": "markdown",
   "metadata": {},
   "source": [
    "### Merging tables"
   ]
  },
  {
   "cell_type": "markdown",
   "metadata": {},
   "source": [
    "The Pandas function `merge` joins two data frames based on common columns. The default of this function performs what in SQL is called a **natural join**, that is is joins the tables using the columns with the same in both tables. \n",
    "\n",
    "We first join `ratings` with `items`, calling the resulting data frame `df`. The join is based on the column `isbn`."
   ]
  },
  {
   "cell_type": "code",
   "execution_count": 8,
   "metadata": {},
   "outputs": [],
   "source": [
    "df = pd.merge(ratings, items)"
   ]
  },
  {
   "cell_type": "markdown",
   "metadata": {},
   "source": [
    "Next, we merge `df` with `users`, based on the column `user`. Again, we call the resulting data frame `df`:"
   ]
  },
  {
   "cell_type": "code",
   "execution_count": 9,
   "metadata": {},
   "outputs": [
    {
     "name": "stdout",
     "output_type": "stream",
     "text": [
      "<class 'pandas.core.frame.DataFrame'>\n",
      "Int64Index: 1031136 entries, 0 to 1031135\n",
      "Data columns (total 10 columns):\n",
      " #   Column     Non-Null Count    Dtype  \n",
      "---  ------     --------------    -----  \n",
      " 0   user       1031136 non-null  int64  \n",
      " 1   isbn       1031136 non-null  object \n",
      " 2   rating     1031136 non-null  int64  \n",
      " 3   title      1031136 non-null  object \n",
      " 4   author     1031135 non-null  object \n",
      " 5   year       1017127 non-null  float64\n",
      " 6   publisher  1031134 non-null  object \n",
      " 7   image      1031132 non-null  object \n",
      " 8   location   1031136 non-null  object \n",
      " 9   age        753301 non-null   float64\n",
      "dtypes: float64(2), int64(2), object(6)\n",
      "memory usage: 86.5+ MB\n"
     ]
    }
   ],
   "source": [
    "df = pd.merge(df, users)\n",
    "df.info()"
   ]
  },
  {
   "cell_type": "markdown",
   "metadata": {},
   "source": [
    "### How often do bookcrossers rate the books they pick?"
   ]
  },
  {
   "cell_type": "markdown",
   "metadata": {},
   "source": [
    "Compared to e-commerce sites like Amazon, rating in Bookcrossing is quite frequent, although more than one half of the books picked are not rated. The books effectively rated are those with positive rating, so we can use the Boolean mask `ratings['rating'] > 0` to capture them:"
   ]
  },
  {
   "cell_type": "code",
   "execution_count": 10,
   "metadata": {},
   "outputs": [
    {
     "data": {
      "text/plain": [
       "0.372"
      ]
     },
     "execution_count": 10,
     "metadata": {},
     "output_type": "execute_result"
    }
   ],
   "source": [
    "round((ratings['rating'] > 0).mean(), 3)"
   ]
  },
  {
   "cell_type": "markdown",
   "metadata": {},
   "source": [
    "### Which titles have been picked more times?"
   ]
  },
  {
   "cell_type": "markdown",
   "metadata": {},
   "source": [
    "Which titles have been picked more times? To answer this question, we apply `value_counts`:"
   ]
  },
  {
   "cell_type": "code",
   "execution_count": 11,
   "metadata": {},
   "outputs": [
    {
     "data": {
      "text/plain": [
       "Wild Animus                                        2502\n",
       "The Lovely Bones: A Novel                          1295\n",
       "The Da Vinci Code                                   898\n",
       "A Painted House                                     838\n",
       "The Nanny Diaries: A Novel                          828\n",
       "Bridget Jones's Diary                               815\n",
       "The Secret Life of Bees                             774\n",
       "Divine Secrets of the Ya-Ya Sisterhood: A Novel     740\n",
       "The Red Tent (Bestselling Backlist)                 723\n",
       "Angels &amp; Demons                                 670\n",
       "Name: title, dtype: int64"
      ]
     },
     "execution_count": 11,
     "metadata": {},
     "output_type": "execute_result"
    }
   ],
   "source": [
    "df['title'].value_counts().head(10)"
   ]
  },
  {
   "cell_type": "markdown",
   "metadata": {},
   "source": [
    "### Which books have been rated highest? "
   ]
  },
  {
   "cell_type": "markdown",
   "metadata": {},
   "source": [
    "To calculate the average rating for the books of this collection, we first select the titles that have been rated by at least once with `df['rating'] > 0`. Then, we group by title and calculate the average rating. We add the number of observations for future filtering."
   ]
  },
  {
   "cell_type": "code",
   "execution_count": 12,
   "metadata": {},
   "outputs": [],
   "source": [
    "df1 = df[df['rating'] > 0].groupby(by='title')['rating'].agg(['mean', 'count'])"
   ]
  },
  {
   "cell_type": "markdown",
   "metadata": {},
   "source": [
    "Now we can restrict the selection to the titles that have been rated by at least 25 users and sort by the average rating:"
   ]
  },
  {
   "cell_type": "code",
   "execution_count": 13,
   "metadata": {},
   "outputs": [
    {
     "data": {
      "text/html": [
       "<div>\n",
       "<style scoped>\n",
       "    .dataframe tbody tr th:only-of-type {\n",
       "        vertical-align: middle;\n",
       "    }\n",
       "\n",
       "    .dataframe tbody tr th {\n",
       "        vertical-align: top;\n",
       "    }\n",
       "\n",
       "    .dataframe thead th {\n",
       "        text-align: right;\n",
       "    }\n",
       "</style>\n",
       "<table border=\"1\" class=\"dataframe\">\n",
       "  <thead>\n",
       "    <tr style=\"text-align: right;\">\n",
       "      <th></th>\n",
       "      <th>mean</th>\n",
       "      <th>count</th>\n",
       "    </tr>\n",
       "    <tr>\n",
       "      <th>title</th>\n",
       "      <th></th>\n",
       "      <th></th>\n",
       "    </tr>\n",
       "  </thead>\n",
       "  <tbody>\n",
       "    <tr>\n",
       "      <th>The Giving Tree</th>\n",
       "      <td>9.423077</td>\n",
       "      <td>26</td>\n",
       "    </tr>\n",
       "    <tr>\n",
       "      <th>Where the Sidewalk Ends : Poems and Drawings</th>\n",
       "      <td>9.400000</td>\n",
       "      <td>25</td>\n",
       "    </tr>\n",
       "    <tr>\n",
       "      <th>The Two Towers (The Lord of the Rings, Part 2)</th>\n",
       "      <td>9.330882</td>\n",
       "      <td>136</td>\n",
       "    </tr>\n",
       "    <tr>\n",
       "      <th>The Cat in the Hat</th>\n",
       "      <td>9.242424</td>\n",
       "      <td>33</td>\n",
       "    </tr>\n",
       "    <tr>\n",
       "      <th>Weirdos From Another Planet!</th>\n",
       "      <td>9.240000</td>\n",
       "      <td>25</td>\n",
       "    </tr>\n",
       "    <tr>\n",
       "      <th>The Return of the King (The Lord of the Rings, Part 3)</th>\n",
       "      <td>9.213592</td>\n",
       "      <td>103</td>\n",
       "    </tr>\n",
       "    <tr>\n",
       "      <th>Lonesome Dove</th>\n",
       "      <td>9.162162</td>\n",
       "      <td>37</td>\n",
       "    </tr>\n",
       "    <tr>\n",
       "      <th>The Grapes of Wrath</th>\n",
       "      <td>9.129032</td>\n",
       "      <td>31</td>\n",
       "    </tr>\n",
       "    <tr>\n",
       "      <th>Harry Potter and the Goblet of Fire (Book 4)</th>\n",
       "      <td>9.125506</td>\n",
       "      <td>247</td>\n",
       "    </tr>\n",
       "    <tr>\n",
       "      <th>Roots</th>\n",
       "      <td>9.120000</td>\n",
       "      <td>25</td>\n",
       "    </tr>\n",
       "  </tbody>\n",
       "</table>\n",
       "</div>"
      ],
      "text/plain": [
       "                                                        mean  count\n",
       "title                                                              \n",
       "The Giving Tree                                     9.423077     26\n",
       "Where the Sidewalk Ends : Poems and Drawings        9.400000     25\n",
       "The Two Towers (The Lord of the Rings, Part 2)      9.330882    136\n",
       "The Cat in the Hat                                  9.242424     33\n",
       "Weirdos From Another Planet!                        9.240000     25\n",
       "The Return of the King (The Lord of the Rings, ...  9.213592    103\n",
       "Lonesome Dove                                       9.162162     37\n",
       "The Grapes of Wrath                                 9.129032     31\n",
       "Harry Potter and the Goblet of Fire (Book 4)        9.125506    247\n",
       "Roots                                               9.120000     25"
      ]
     },
     "execution_count": 13,
     "metadata": {},
     "output_type": "execute_result"
    }
   ],
   "source": [
    "df1[df1['count'] >= 25].sort_values(by='mean', ascending=False).head(10)"
   ]
  },
  {
   "cell_type": "markdown",
   "metadata": {},
   "source": [
    "Raising the threshold to 100 would give us a more homogeneous selection:"
   ]
  },
  {
   "cell_type": "code",
   "execution_count": 14,
   "metadata": {},
   "outputs": [
    {
     "data": {
      "text/html": [
       "<div>\n",
       "<style scoped>\n",
       "    .dataframe tbody tr th:only-of-type {\n",
       "        vertical-align: middle;\n",
       "    }\n",
       "\n",
       "    .dataframe tbody tr th {\n",
       "        vertical-align: top;\n",
       "    }\n",
       "\n",
       "    .dataframe thead th {\n",
       "        text-align: right;\n",
       "    }\n",
       "</style>\n",
       "<table border=\"1\" class=\"dataframe\">\n",
       "  <thead>\n",
       "    <tr style=\"text-align: right;\">\n",
       "      <th></th>\n",
       "      <th>mean</th>\n",
       "      <th>count</th>\n",
       "    </tr>\n",
       "    <tr>\n",
       "      <th>title</th>\n",
       "      <th></th>\n",
       "      <th></th>\n",
       "    </tr>\n",
       "  </thead>\n",
       "  <tbody>\n",
       "    <tr>\n",
       "      <th>The Two Towers (The Lord of the Rings, Part 2)</th>\n",
       "      <td>9.330882</td>\n",
       "      <td>136</td>\n",
       "    </tr>\n",
       "    <tr>\n",
       "      <th>The Return of the King (The Lord of the Rings, Part 3)</th>\n",
       "      <td>9.213592</td>\n",
       "      <td>103</td>\n",
       "    </tr>\n",
       "    <tr>\n",
       "      <th>Harry Potter and the Goblet of Fire (Book 4)</th>\n",
       "      <td>9.125506</td>\n",
       "      <td>247</td>\n",
       "    </tr>\n",
       "    <tr>\n",
       "      <th>Harry Potter and the Sorcerer's Stone (Book 1)</th>\n",
       "      <td>9.062500</td>\n",
       "      <td>176</td>\n",
       "    </tr>\n",
       "    <tr>\n",
       "      <th>Harry Potter and the Order of the Phoenix (Book 5)</th>\n",
       "      <td>9.047393</td>\n",
       "      <td>211</td>\n",
       "    </tr>\n",
       "    <tr>\n",
       "      <th>Harry Potter and the Prisoner of Azkaban (Book 3)</th>\n",
       "      <td>9.043321</td>\n",
       "      <td>277</td>\n",
       "    </tr>\n",
       "    <tr>\n",
       "      <th>To Kill a Mockingbird</th>\n",
       "      <td>8.977528</td>\n",
       "      <td>267</td>\n",
       "    </tr>\n",
       "    <tr>\n",
       "      <th>Harry Potter and the Sorcerer's Stone (Harry Potter (Paperback))</th>\n",
       "      <td>8.936508</td>\n",
       "      <td>315</td>\n",
       "    </tr>\n",
       "    <tr>\n",
       "      <th>Ender's Game (Ender Wiggins Saga (Paperback))</th>\n",
       "      <td>8.920530</td>\n",
       "      <td>151</td>\n",
       "    </tr>\n",
       "    <tr>\n",
       "      <th>The Fellowship of the Ring (The Lord of the Rings, Part 1)</th>\n",
       "      <td>8.882927</td>\n",
       "      <td>205</td>\n",
       "    </tr>\n",
       "  </tbody>\n",
       "</table>\n",
       "</div>"
      ],
      "text/plain": [
       "                                                        mean  count\n",
       "title                                                              \n",
       "The Two Towers (The Lord of the Rings, Part 2)      9.330882    136\n",
       "The Return of the King (The Lord of the Rings, ...  9.213592    103\n",
       "Harry Potter and the Goblet of Fire (Book 4)        9.125506    247\n",
       "Harry Potter and the Sorcerer's Stone (Book 1)      9.062500    176\n",
       "Harry Potter and the Order of the Phoenix (Book 5)  9.047393    211\n",
       "Harry Potter and the Prisoner of Azkaban (Book 3)   9.043321    277\n",
       "To Kill a Mockingbird                               8.977528    267\n",
       "Harry Potter and the Sorcerer's Stone (Harry Po...  8.936508    315\n",
       "Ender's Game (Ender Wiggins Saga (Paperback))       8.920530    151\n",
       "The Fellowship of the Ring (The Lord of the Rin...  8.882927    205"
      ]
     },
     "execution_count": 14,
     "metadata": {},
     "output_type": "execute_result"
    }
   ],
   "source": [
    "df1[df1['count'] >= 100].sort_values(by='mean', ascending=False).head(10)"
   ]
  },
  {
   "cell_type": "markdown",
   "metadata": {},
   "source": [
    "### Exploring *The Martian Chronicles*"
   ]
  },
  {
   "cell_type": "markdown",
   "metadata": {},
   "source": [
    "In the second part of this example, we are going to extract a list of 10 books to be recommended to users having read the SF classic *The Martian Chronicles*, using two methods. Before getting specific, we explore the available data on this book."
   ]
  },
  {
   "cell_type": "code",
   "execution_count": 15,
   "metadata": {},
   "outputs": [
    {
     "data": {
      "text/html": [
       "<div>\n",
       "<style scoped>\n",
       "    .dataframe tbody tr th:only-of-type {\n",
       "        vertical-align: middle;\n",
       "    }\n",
       "\n",
       "    .dataframe tbody tr th {\n",
       "        vertical-align: top;\n",
       "    }\n",
       "\n",
       "    .dataframe thead th {\n",
       "        text-align: right;\n",
       "    }\n",
       "</style>\n",
       "<table border=\"1\" class=\"dataframe\">\n",
       "  <thead>\n",
       "    <tr style=\"text-align: right;\">\n",
       "      <th></th>\n",
       "      <th>isbn</th>\n",
       "      <th>title</th>\n",
       "      <th>author</th>\n",
       "      <th>year</th>\n",
       "      <th>publisher</th>\n",
       "      <th>image</th>\n",
       "    </tr>\n",
       "  </thead>\n",
       "  <tbody>\n",
       "    <tr>\n",
       "      <th>175</th>\n",
       "      <td>0553278223</td>\n",
       "      <td>The Martian Chronicles</td>\n",
       "      <td>RAY BRADBURY</td>\n",
       "      <td>1984.0</td>\n",
       "      <td>Spectra</td>\n",
       "      <td>http://images.amazon.com/images/P/0553278223.0...</td>\n",
       "    </tr>\n",
       "  </tbody>\n",
       "</table>\n",
       "</div>"
      ],
      "text/plain": [
       "           isbn                   title        author    year publisher  \\\n",
       "175  0553278223  The Martian Chronicles  RAY BRADBURY  1984.0   Spectra   \n",
       "\n",
       "                                                 image  \n",
       "175  http://images.amazon.com/images/P/0553278223.0...  "
      ]
     },
     "execution_count": 15,
     "metadata": {},
     "output_type": "execute_result"
    }
   ],
   "source": [
    "items[items['title'] == 'The Martian Chronicles']"
   ]
  },
  {
   "cell_type": "markdown",
   "metadata": {},
   "source": [
    "The ISBN is 0553278223, so we can use this identifier. We have 65 readers:"
   ]
  },
  {
   "cell_type": "code",
   "execution_count": 16,
   "metadata": {},
   "outputs": [
    {
     "data": {
      "text/plain": [
       "65"
      ]
     },
     "execution_count": 16,
     "metadata": {},
     "output_type": "execute_result"
    }
   ],
   "source": [
    "(ratings['isbn'] == '0553278223').sum()"
   ]
  },
  {
   "cell_type": "markdown",
   "metadata": {},
   "source": [
    "Among these readers, 30 have rated the book:"
   ]
  },
  {
   "cell_type": "code",
   "execution_count": 17,
   "metadata": {},
   "outputs": [
    {
     "data": {
      "text/plain": [
       "30"
      ]
     },
     "execution_count": 17,
     "metadata": {},
     "output_type": "execute_result"
    }
   ],
   "source": [
    "((ratings['isbn'] == '0553278223') & (ratings['rating'] > 0)).sum()"
   ]
  },
  {
   "cell_type": "markdown",
   "metadata": {},
   "source": [
    "### Restricting the data set"
   ]
  },
  {
   "cell_type": "markdown",
   "metadata": {},
   "source": [
    "To make the computations manageable, we will restrict the data to those related to *The Martian Chronicles*, which means, in practice, the books picked by the users who have picked *The Martian Chronicles*. These books are the only ones that matter.\n",
    "\n",
    "We extract first a list of the users that have picked *The Martian Chronicles*, which we call `mc_users`:"
   ]
  },
  {
   "cell_type": "code",
   "execution_count": 18,
   "metadata": {},
   "outputs": [
    {
     "data": {
      "text/plain": [
       "8623          242\n",
       "10271         882\n",
       "13574        2313\n",
       "18161        4098\n",
       "22814        6280\n",
       "            ...  \n",
       "910825     243292\n",
       "917945     245410\n",
       "941440     250962\n",
       "958315     255078\n",
       "1027938    275922\n",
       "Name: user, Length: 65, dtype: int64"
      ]
     },
     "execution_count": 18,
     "metadata": {},
     "output_type": "execute_result"
    }
   ],
   "source": [
    "mc_users = ratings[ratings['isbn'] == '0553278223']['user']\n",
    "mc_users"
   ]
  },
  {
   "cell_type": "markdown",
   "metadata": {},
   "source": [
    "Second, we extract a list containing all the ratings given by these users, which we call `mc_ratings`. This will be our transactions data set for the rest of the analysis. "
   ]
  },
  {
   "cell_type": "code",
   "execution_count": 19,
   "metadata": {},
   "outputs": [
    {
     "data": {
      "text/html": [
       "<div>\n",
       "<style scoped>\n",
       "    .dataframe tbody tr th:only-of-type {\n",
       "        vertical-align: middle;\n",
       "    }\n",
       "\n",
       "    .dataframe tbody tr th {\n",
       "        vertical-align: top;\n",
       "    }\n",
       "\n",
       "    .dataframe thead th {\n",
       "        text-align: right;\n",
       "    }\n",
       "</style>\n",
       "<table border=\"1\" class=\"dataframe\">\n",
       "  <thead>\n",
       "    <tr style=\"text-align: right;\">\n",
       "      <th></th>\n",
       "      <th>user</th>\n",
       "      <th>isbn</th>\n",
       "      <th>rating</th>\n",
       "    </tr>\n",
       "  </thead>\n",
       "  <tbody>\n",
       "    <tr>\n",
       "      <th>8623</th>\n",
       "      <td>242</td>\n",
       "      <td>0553278223</td>\n",
       "      <td>10</td>\n",
       "    </tr>\n",
       "    <tr>\n",
       "      <th>8624</th>\n",
       "      <td>242</td>\n",
       "      <td>0971880107</td>\n",
       "      <td>0</td>\n",
       "    </tr>\n",
       "    <tr>\n",
       "      <th>8625</th>\n",
       "      <td>242</td>\n",
       "      <td>3150000335</td>\n",
       "      <td>10</td>\n",
       "    </tr>\n",
       "    <tr>\n",
       "      <th>8626</th>\n",
       "      <td>242</td>\n",
       "      <td>3257203659</td>\n",
       "      <td>9</td>\n",
       "    </tr>\n",
       "    <tr>\n",
       "      <th>8627</th>\n",
       "      <td>242</td>\n",
       "      <td>3257207522</td>\n",
       "      <td>10</td>\n",
       "    </tr>\n",
       "    <tr>\n",
       "      <th>...</th>\n",
       "      <td>...</td>\n",
       "      <td>...</td>\n",
       "      <td>...</td>\n",
       "    </tr>\n",
       "    <tr>\n",
       "      <th>1027974</th>\n",
       "      <td>275922</td>\n",
       "      <td>1578563763</td>\n",
       "      <td>9</td>\n",
       "    </tr>\n",
       "    <tr>\n",
       "      <th>1027975</th>\n",
       "      <td>275922</td>\n",
       "      <td>1579546463</td>\n",
       "      <td>10</td>\n",
       "    </tr>\n",
       "    <tr>\n",
       "      <th>1027976</th>\n",
       "      <td>275922</td>\n",
       "      <td>1579549586</td>\n",
       "      <td>9</td>\n",
       "    </tr>\n",
       "    <tr>\n",
       "      <th>1027977</th>\n",
       "      <td>275922</td>\n",
       "      <td>1583330844</td>\n",
       "      <td>0</td>\n",
       "    </tr>\n",
       "    <tr>\n",
       "      <th>1027978</th>\n",
       "      <td>275922</td>\n",
       "      <td>1931561648</td>\n",
       "      <td>0</td>\n",
       "    </tr>\n",
       "  </tbody>\n",
       "</table>\n",
       "<p>38629 rows × 3 columns</p>\n",
       "</div>"
      ],
      "text/plain": [
       "           user        isbn  rating\n",
       "8623        242  0553278223      10\n",
       "8624        242  0971880107       0\n",
       "8625        242  3150000335      10\n",
       "8626        242  3257203659       9\n",
       "8627        242  3257207522      10\n",
       "...         ...         ...     ...\n",
       "1027974  275922  1578563763       9\n",
       "1027975  275922  1579546463      10\n",
       "1027976  275922  1579549586       9\n",
       "1027977  275922  1583330844       0\n",
       "1027978  275922  1931561648       0\n",
       "\n",
       "[38629 rows x 3 columns]"
      ]
     },
     "execution_count": 19,
     "metadata": {},
     "output_type": "execute_result"
    }
   ],
   "source": [
    "mc_ratings = ratings[ratings['user'].isin(mc_users)]\n",
    "mc_ratings"
   ]
  },
  {
   "cell_type": "markdown",
   "metadata": {},
   "source": [
    "Which are the books that have been picked by these users? We get the list, sorted by the number of readers, with `value_counts`:"
   ]
  },
  {
   "cell_type": "code",
   "execution_count": 20,
   "metadata": {},
   "outputs": [
    {
     "data": {
      "text/plain": [
       "0553278223    65\n",
       "0345342968    20\n",
       "044021145X    19\n",
       "0971880107    18\n",
       "0449212602    17\n",
       "              ..\n",
       "0441006841     1\n",
       "0312274742     1\n",
       "0553213504     1\n",
       "0918273811     1\n",
       "0385498861     1\n",
       "Name: isbn, Length: 28862, dtype: int64"
      ]
     },
     "execution_count": 20,
     "metadata": {},
     "output_type": "execute_result"
    }
   ],
   "source": [
    "mc_ratings['isbn'].value_counts()"
   ]
  },
  {
   "cell_type": "markdown",
   "metadata": {},
   "source": [
    "On top, we find *The Martian Chronicles*, with 65 readers. These are the 65 users involved in our transactions data set. The ISBN's of the books involved in our transaction data set are:"
   ]
  },
  {
   "cell_type": "code",
   "execution_count": 21,
   "metadata": {},
   "outputs": [
    {
     "data": {
      "text/plain": [
       "Index(['0345342968', '044021145X', '0971880107', '0449212602', '0316666343',\n",
       "       '0316769487', '0553572997', '0345337662', '0385504209', '0345313860',\n",
       "       ...\n",
       "       '188301106X', '0140280189', '0373765193', '0373160526', '0316279722',\n",
       "       '0441006841', '0312274742', '0553213504', '0918273811', '0385498861'],\n",
       "      dtype='object', length=28861)"
      ]
     },
     "execution_count": 21,
     "metadata": {},
     "output_type": "execute_result"
    }
   ],
   "source": [
    "mc_isbn = mc_ratings['isbn'].value_counts().index[1:]\n",
    "mc_isbn"
   ]
  },
  {
   "cell_type": "markdown",
   "metadata": {},
   "source": [
    "The exercise consists in selecting 10 books among this list of 28,861."
   ]
  },
  {
   "cell_type": "markdown",
   "metadata": {},
   "source": [
    "### Recommendation based on association rules with strong confidence"
   ]
  },
  {
   "cell_type": "markdown",
   "metadata": {},
   "source": [
    "To produce the top-10 recommendation to the readers of *The Martian Chronicles*, we will use two different approaches. Our first recommendation will be based on the **association rules** with strong **confidence**.\n",
    "\n",
    "By dividing the counts by 65, we get the confidence for the rules that have ISBN 0553278223 as the consequent:"
   ]
  },
  {
   "cell_type": "code",
   "execution_count": 22,
   "metadata": {},
   "outputs": [],
   "source": [
    "mc_conf = mc_ratings['isbn'].value_counts()[1:]/65."
   ]
  },
  {
   "cell_type": "markdown",
   "metadata": {},
   "source": [
    "The ISBN's of the top-10 recommendations are:"
   ]
  },
  {
   "cell_type": "code",
   "execution_count": 23,
   "metadata": {},
   "outputs": [
    {
     "data": {
      "text/plain": [
       "Index(['0345342968', '044021145X', '0971880107', '0449212602', '0316666343',\n",
       "       '0316769487', '0553572997', '0345337662', '0385504209', '0345313860'],\n",
       "      dtype='object')"
      ]
     },
     "execution_count": 23,
     "metadata": {},
     "output_type": "execute_result"
    }
   ],
   "source": [
    "mc_conf.index[:10]"
   ]
  },
  {
   "cell_type": "markdown",
   "metadata": {},
   "source": [
    "Finally, we extract the corresponding titles from the `items` table. We join `mc_conf` with `items` based on the ISBN with `join`. To do this, on one side we transform `mc_conf` into a data frame. On the other side, we set the column `isbn` as the index of `items`. This is neede because we can only join data frames (not series) and `join`uses the index. "
   ]
  },
  {
   "cell_type": "code",
   "execution_count": 24,
   "metadata": {},
   "outputs": [
    {
     "data": {
      "text/html": [
       "<div>\n",
       "<style scoped>\n",
       "    .dataframe tbody tr th:only-of-type {\n",
       "        vertical-align: middle;\n",
       "    }\n",
       "\n",
       "    .dataframe tbody tr th {\n",
       "        vertical-align: top;\n",
       "    }\n",
       "\n",
       "    .dataframe thead th {\n",
       "        text-align: right;\n",
       "    }\n",
       "</style>\n",
       "<table border=\"1\" class=\"dataframe\">\n",
       "  <thead>\n",
       "    <tr style=\"text-align: right;\">\n",
       "      <th></th>\n",
       "      <th>title</th>\n",
       "      <th>author</th>\n",
       "      <th>conf</th>\n",
       "    </tr>\n",
       "  </thead>\n",
       "  <tbody>\n",
       "    <tr>\n",
       "      <th>0345342968</th>\n",
       "      <td>Fahrenheit 451</td>\n",
       "      <td>RAY BRADBURY</td>\n",
       "      <td>0.307692</td>\n",
       "    </tr>\n",
       "    <tr>\n",
       "      <th>044021145X</th>\n",
       "      <td>The Firm</td>\n",
       "      <td>John Grisham</td>\n",
       "      <td>0.292308</td>\n",
       "    </tr>\n",
       "    <tr>\n",
       "      <th>0971880107</th>\n",
       "      <td>Wild Animus</td>\n",
       "      <td>Rich Shapero</td>\n",
       "      <td>0.276923</td>\n",
       "    </tr>\n",
       "    <tr>\n",
       "      <th>0449212602</th>\n",
       "      <td>The Handmaid's Tale</td>\n",
       "      <td>Margaret Atwood</td>\n",
       "      <td>0.261538</td>\n",
       "    </tr>\n",
       "    <tr>\n",
       "      <th>0316666343</th>\n",
       "      <td>The Lovely Bones: A Novel</td>\n",
       "      <td>Alice Sebold</td>\n",
       "      <td>0.246154</td>\n",
       "    </tr>\n",
       "    <tr>\n",
       "      <th>0316769487</th>\n",
       "      <td>The Catcher in the Rye</td>\n",
       "      <td>J.D. Salinger</td>\n",
       "      <td>0.230769</td>\n",
       "    </tr>\n",
       "    <tr>\n",
       "      <th>0553572997</th>\n",
       "      <td>The Alienist</td>\n",
       "      <td>Caleb Carr</td>\n",
       "      <td>0.230769</td>\n",
       "    </tr>\n",
       "    <tr>\n",
       "      <th>0345337662</th>\n",
       "      <td>Interview with the Vampire</td>\n",
       "      <td>Anne Rice</td>\n",
       "      <td>0.230769</td>\n",
       "    </tr>\n",
       "    <tr>\n",
       "      <th>0385504209</th>\n",
       "      <td>The Da Vinci Code</td>\n",
       "      <td>Dan Brown</td>\n",
       "      <td>0.230769</td>\n",
       "    </tr>\n",
       "    <tr>\n",
       "      <th>0345313860</th>\n",
       "      <td>The Vampire Lestat (Vampire Chronicles, Book II)</td>\n",
       "      <td>ANNE RICE</td>\n",
       "      <td>0.215385</td>\n",
       "    </tr>\n",
       "  </tbody>\n",
       "</table>\n",
       "</div>"
      ],
      "text/plain": [
       "                                                       title           author  \\\n",
       "0345342968                                    Fahrenheit 451     RAY BRADBURY   \n",
       "044021145X                                          The Firm     John Grisham   \n",
       "0971880107                                       Wild Animus     Rich Shapero   \n",
       "0449212602                               The Handmaid's Tale  Margaret Atwood   \n",
       "0316666343                         The Lovely Bones: A Novel     Alice Sebold   \n",
       "0316769487                            The Catcher in the Rye    J.D. Salinger   \n",
       "0553572997                                      The Alienist       Caleb Carr   \n",
       "0345337662                        Interview with the Vampire        Anne Rice   \n",
       "0385504209                                 The Da Vinci Code        Dan Brown   \n",
       "0345313860  The Vampire Lestat (Vampire Chronicles, Book II)        ANNE RICE   \n",
       "\n",
       "                conf  \n",
       "0345342968  0.307692  \n",
       "044021145X  0.292308  \n",
       "0971880107  0.276923  \n",
       "0449212602  0.261538  \n",
       "0316666343  0.246154  \n",
       "0316769487  0.230769  \n",
       "0553572997  0.230769  \n",
       "0345337662  0.230769  \n",
       "0385504209  0.230769  \n",
       "0345313860  0.215385  "
      ]
     },
     "execution_count": 24,
     "metadata": {},
     "output_type": "execute_result"
    }
   ],
   "source": [
    "pd.DataFrame({'conf': mc_conf[:10]}).join(items.set_index('isbn'))[['title', 'author', 'conf']]"
   ]
  },
  {
   "cell_type": "markdown",
   "metadata": {},
   "source": [
    "### Neighborhood-based recommendation"
   ]
  },
  {
   "cell_type": "markdown",
   "metadata": {},
   "source": [
    "In the second approach, we use the **neighborhood** of *The Martian Chronicles* defined by the **cosine similarity formula**. We use **implicit ratings**, that is, 1/0 values indicating whether a user has picked a book. \n",
    "\n",
    "The cosine formula is:\n",
    "\n",
    "$$\\cos(x,y)={x_1y_1+\\cdots+x_ny_n\\over\\sqrt{\\big(x_1^2+\\cdots+x_n^2\\big)\\big(y_1^2+\\cdots+y_n^2\\big)}}\\,.$$\n",
    "\n",
    "In the application of the formula to this example, $x$ and $y$ are vectors containing the implicit ratings of two books. The output of the formula is the similarity between the books. Here, one of the two books is *The Martian Chronicles* and we apply the formula to calculate the similarities between that book and those from the list `mc_isbn`. The neighbors of the *The Martian Chronicles* will be those books with highest similarity.\n",
    "\n",
    "Note that, in this application of the cosine formula, the numerator is zero except when the two books have at least a common reader. This is why we can restrict the analysis to the boos in the list `mc_isbn`.\n",
    "\n",
    "Now, for a particular book, the numerator of the cosine formula, which in mathematical terms, is called a **dot product** can be calculated as the sum of as many ones as users have read both that book and *The Martian Chronicles*. We have already obtained these counts:"
   ]
  },
  {
   "cell_type": "code",
   "execution_count": 25,
   "metadata": {},
   "outputs": [
    {
     "data": {
      "text/plain": [
       "0345342968    20\n",
       "044021145X    19\n",
       "0971880107    18\n",
       "0449212602    17\n",
       "0316666343    16\n",
       "              ..\n",
       "0441006841     1\n",
       "0312274742     1\n",
       "0553213504     1\n",
       "0918273811     1\n",
       "0385498861     1\n",
       "Name: isbn, Length: 28861, dtype: int64"
      ]
     },
     "execution_count": 25,
     "metadata": {},
     "output_type": "execute_result"
    }
   ],
   "source": [
    "dotprod = mc_ratings['isbn'].value_counts()[1:]\n",
    "dotprod"
   ]
  },
  {
   "cell_type": "markdown",
   "metadata": {},
   "source": [
    "The denominator has two factors. If $x$ stands for *The Martian Chronicles*, the sum of squares equals 65, whoch is the number of readers of that book. So this factor, which we denote by `mc_mod`, can be obtained as: "
   ]
  },
  {
   "cell_type": "code",
   "execution_count": 26,
   "metadata": {},
   "outputs": [],
   "source": [
    "import numpy as np\n",
    "mc_mod = np.sqrt(65)"
   ]
  },
  {
   "cell_type": "markdown",
   "metadata": {},
   "source": [
    "Suppose that $y$ stands for a particular book from the list `mc_isbn`. The sum of squares equals the sum of as many ones as as users have picked the book, which is, again calculated with `value_counts`. This is calculated only for the books of the list, which are filtered with the Boolean mask `ratings[ratings['isbn'].isin(mc_isbn)`."
   ]
  },
  {
   "cell_type": "code",
   "execution_count": 27,
   "metadata": {},
   "outputs": [
    {
     "data": {
      "text/plain": [
       "0971880107    50.019996\n",
       "0316666343    35.986108\n",
       "0385504209    29.715316\n",
       "0060928336    27.055499\n",
       "0312195516    26.888659\n",
       "                ...    \n",
       "020131245X     1.000000\n",
       "0590400215     1.000000\n",
       "0345224876     1.000000\n",
       "0822005875     1.000000\n",
       "0850095824     1.000000\n",
       "Name: isbn, Length: 28861, dtype: float64"
      ]
     },
     "execution_count": 27,
     "metadata": {},
     "output_type": "execute_result"
    }
   ],
   "source": [
    "items_mod = np.sqrt(ratings[ratings['isbn'].isin(mc_isbn)]['isbn'].value_counts())\n",
    "items_mod"
   ]
  },
  {
   "cell_type": "markdown",
   "metadata": {},
   "source": [
    "Putting these pieces together the cosine similarities are calculated as:"
   ]
  },
  {
   "cell_type": "code",
   "execution_count": 28,
   "metadata": {},
   "outputs": [],
   "source": [
    "cos = dotprod/(mc_mod*items_mod)"
   ]
  },
  {
   "cell_type": "code",
   "execution_count": 29,
   "metadata": {},
   "outputs": [
    {
     "data": {
      "text/plain": [
       "0553206966    0.214834\n",
       "0446325058    0.214834\n",
       "0440405157    0.214834\n",
       "0486297659    0.214834\n",
       "0380730863    0.202548\n",
       "Name: isbn, dtype: float64"
      ]
     },
     "execution_count": 29,
     "metadata": {},
     "output_type": "execute_result"
    }
   ],
   "source": [
    "cos = cos.sort_values(ascending=False)\n",
    "cos.head()"
   ]
  },
  {
   "cell_type": "markdown",
   "metadata": {},
   "source": [
    "The ISBN's of the top-10 recommendations are:"
   ]
  },
  {
   "cell_type": "code",
   "execution_count": 30,
   "metadata": {},
   "outputs": [
    {
     "data": {
      "text/plain": [
       "Index(['0553206966', '0446325058', '0440405157', '0486297659', '0380730863',\n",
       "       '055327449X', '0553096028', '0451524705', '034540291X', '0486287564'],\n",
       "      dtype='object')"
      ]
     },
     "execution_count": 30,
     "metadata": {},
     "output_type": "execute_result"
    }
   ],
   "source": [
    "cos.index[:10]"
   ]
  },
  {
   "cell_type": "markdown",
   "metadata": {},
   "source": [
    "Finally, we extract the corresponding titles from the table `items`, as we did above for the confidence-based recommendation:"
   ]
  },
  {
   "cell_type": "code",
   "execution_count": 31,
   "metadata": {},
   "outputs": [
    {
     "data": {
      "text/html": [
       "<div>\n",
       "<style scoped>\n",
       "    .dataframe tbody tr th:only-of-type {\n",
       "        vertical-align: middle;\n",
       "    }\n",
       "\n",
       "    .dataframe tbody tr th {\n",
       "        vertical-align: top;\n",
       "    }\n",
       "\n",
       "    .dataframe thead th {\n",
       "        text-align: right;\n",
       "    }\n",
       "</style>\n",
       "<table border=\"1\" class=\"dataframe\">\n",
       "  <thead>\n",
       "    <tr style=\"text-align: right;\">\n",
       "      <th></th>\n",
       "      <th>title</th>\n",
       "      <th>author</th>\n",
       "      <th>cos</th>\n",
       "    </tr>\n",
       "  </thead>\n",
       "  <tbody>\n",
       "    <tr>\n",
       "      <th>0553206966</th>\n",
       "      <td>Demian the Story of Emil Sinclairs Youth</td>\n",
       "      <td>Hermann Hesse</td>\n",
       "      <td>0.214834</td>\n",
       "    </tr>\n",
       "    <tr>\n",
       "      <th>0446325058</th>\n",
       "      <td>The Patient in Cabin C</td>\n",
       "      <td>Mignon Good Eberhart</td>\n",
       "      <td>0.214834</td>\n",
       "    </tr>\n",
       "    <tr>\n",
       "      <th>0440405157</th>\n",
       "      <td>Two Weirdos and a Ghost</td>\n",
       "      <td>Patricia Windsor</td>\n",
       "      <td>0.214834</td>\n",
       "    </tr>\n",
       "    <tr>\n",
       "      <th>0486297659</th>\n",
       "      <td>The Taming of the Shrew (Dover Thrift Editions)</td>\n",
       "      <td>William Shakespeare</td>\n",
       "      <td>0.214834</td>\n",
       "    </tr>\n",
       "    <tr>\n",
       "      <th>0380730863</th>\n",
       "      <td>A Medicine for Melancholy and Other Stories</td>\n",
       "      <td>Ray Bradbury</td>\n",
       "      <td>0.202548</td>\n",
       "    </tr>\n",
       "    <tr>\n",
       "      <th>055327449X</th>\n",
       "      <td>The Illustrated Man (Grand Master Editions)</td>\n",
       "      <td>RAY BRADBURY</td>\n",
       "      <td>0.194325</td>\n",
       "    </tr>\n",
       "    <tr>\n",
       "      <th>0553096028</th>\n",
       "      <td>Philadelphia: A Novel</td>\n",
       "      <td>Christopher Davis</td>\n",
       "      <td>0.186052</td>\n",
       "    </tr>\n",
       "    <tr>\n",
       "      <th>0451524705</th>\n",
       "      <td>Idylls of the King and a Selection of Poems</td>\n",
       "      <td>Alfred Lord Tennyson</td>\n",
       "      <td>0.186052</td>\n",
       "    </tr>\n",
       "    <tr>\n",
       "      <th>034540291X</th>\n",
       "      <td>Requiem for Moses (Father Koesler Mystery)</td>\n",
       "      <td>William X. Kienzle</td>\n",
       "      <td>0.186052</td>\n",
       "    </tr>\n",
       "    <tr>\n",
       "      <th>0486287564</th>\n",
       "      <td>\\Miniver Cheevy\\\" and Other Poems (Dover Thrif...</td>\n",
       "      <td>Edwin Arlington Robinson</td>\n",
       "      <td>0.175412</td>\n",
       "    </tr>\n",
       "  </tbody>\n",
       "</table>\n",
       "</div>"
      ],
      "text/plain": [
       "                                                        title  \\\n",
       "0553206966           Demian the Story of Emil Sinclairs Youth   \n",
       "0446325058                             The Patient in Cabin C   \n",
       "0440405157                            Two Weirdos and a Ghost   \n",
       "0486297659    The Taming of the Shrew (Dover Thrift Editions)   \n",
       "0380730863        A Medicine for Melancholy and Other Stories   \n",
       "055327449X        The Illustrated Man (Grand Master Editions)   \n",
       "0553096028                              Philadelphia: A Novel   \n",
       "0451524705        Idylls of the King and a Selection of Poems   \n",
       "034540291X         Requiem for Moses (Father Koesler Mystery)   \n",
       "0486287564  \\Miniver Cheevy\\\" and Other Poems (Dover Thrif...   \n",
       "\n",
       "                              author       cos  \n",
       "0553206966             Hermann Hesse  0.214834  \n",
       "0446325058      Mignon Good Eberhart  0.214834  \n",
       "0440405157          Patricia Windsor  0.214834  \n",
       "0486297659       William Shakespeare  0.214834  \n",
       "0380730863              Ray Bradbury  0.202548  \n",
       "055327449X              RAY BRADBURY  0.194325  \n",
       "0553096028         Christopher Davis  0.186052  \n",
       "0451524705      Alfred Lord Tennyson  0.186052  \n",
       "034540291X        William X. Kienzle  0.186052  \n",
       "0486287564  Edwin Arlington Robinson  0.175412  "
      ]
     },
     "execution_count": 31,
     "metadata": {},
     "output_type": "execute_result"
    }
   ],
   "source": [
    "pd.DataFrame({'cos': cos[:10]}).join(items.set_index('isbn'))[['title', 'author', 'cos']]"
   ]
  }
 ],
 "metadata": {
  "kernelspec": {
   "display_name": "Python 3",
   "language": "python",
   "name": "python3"
  },
  "language_info": {
   "codemirror_mode": {
    "name": "ipython",
    "version": 3
   },
   "file_extension": ".py",
   "mimetype": "text/x-python",
   "name": "python",
   "nbconvert_exporter": "python",
   "pygments_lexer": "ipython3",
   "version": "3.7.9"
  }
 },
 "nbformat": 4,
 "nbformat_minor": 4
}
